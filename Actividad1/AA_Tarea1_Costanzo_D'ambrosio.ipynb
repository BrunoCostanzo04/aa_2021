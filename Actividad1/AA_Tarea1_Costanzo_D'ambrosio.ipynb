{
  "nbformat": 4,
  "nbformat_minor": 0,
  "metadata": {
    "colab": {
      "name": "aa_tarea1_costanzo_dambrosio.ipynb",
      "provenance": [],
      "collapsed_sections": [
        "kJvp-WK_hQ12",
        "dSTZ5N6ZhWYc",
        "VzflA_AhdUBO"
      ],
      "toc_visible": true
    },
    "kernelspec": {
      "name": "python3",
      "display_name": "Python 3"
    },
    "language_info": {
      "name": "python"
    }
  },
  "cells": [
    {
      "cell_type": "markdown",
      "metadata": {
        "id": "mypLuG39VObh"
      },
      "source": [
        "# **TAREA 1 DE APRENDIZAJE AUTOMÁTICO**\n",
        "## Universidad de Montevideo\n",
        "## Ing. en Infórmatica - Sem 2, 2021\n",
        "### Docente: Sebastián Garcia\n",
        "\n",
        "\n",
        "## Grupo 2:\n",
        "* Bruno Costanzo\n",
        "* Renzo D'Ambrosio\n"
      ]
    },
    {
      "cell_type": "markdown",
      "metadata": {
        "id": "z4ST0K5EaFZD"
      },
      "source": [
        "# PARTE 1\n",
        "Efectúe un profundo análisis exploratorio del dataset, incluyendo un estudio de \n",
        "correlación entre las variables del mismo. Explique detalladamente los métodos \n",
        "utilizados. Para obtener una representación gráfica de la correlación entre variables, se \n",
        "recomienda utilizar el método heatmap del paquete Seaborn [3]. Discuta \n",
        "detalladamente los resultados obtenidos.\n"
      ]
    },
    {
      "cell_type": "code",
      "metadata": {
        "id": "08fLgAVWaNU-"
      },
      "source": [
        "# Importamos paquetes necesarios\n",
        "import sklearn as s\n",
        "import numpy as np\n",
        "import seaborn as sns\n",
        "import pandas as pd\n",
        "import matplotlib.pyplot as plt\n",
        "from sklearn import datasets"
      ],
      "execution_count": null,
      "outputs": []
    },
    {
      "cell_type": "code",
      "metadata": {
        "id": "ClBTq4aHaWHH"
      },
      "source": [
        "# wine_df = pd.read_csv('winequality-red.csv')\n",
        "wine_df = pd.read_csv('https://raw.githubusercontent.com/rdambrosioz/aa_2021/main/winequality-red.csv')"
      ],
      "execution_count": null,
      "outputs": []
    },
    {
      "cell_type": "code",
      "metadata": {
        "colab": {
          "base_uri": "https://localhost:8080/",
          "height": 423
        },
        "id": "0DFRvnCFcj7d",
        "outputId": "cc3e2552-de6d-4e8a-8aaf-3f0247551de5"
      },
      "source": [
        "features = wine_df.columns[0:-1]\n",
        "wine_df"
      ],
      "execution_count": null,
      "outputs": [
        {
          "output_type": "execute_result",
          "data": {
            "text/html": [
              "<div>\n",
              "<style scoped>\n",
              "    .dataframe tbody tr th:only-of-type {\n",
              "        vertical-align: middle;\n",
              "    }\n",
              "\n",
              "    .dataframe tbody tr th {\n",
              "        vertical-align: top;\n",
              "    }\n",
              "\n",
              "    .dataframe thead th {\n",
              "        text-align: right;\n",
              "    }\n",
              "</style>\n",
              "<table border=\"1\" class=\"dataframe\">\n",
              "  <thead>\n",
              "    <tr style=\"text-align: right;\">\n",
              "      <th></th>\n",
              "      <th>fixed acidity</th>\n",
              "      <th>volatile acidity</th>\n",
              "      <th>citric acid</th>\n",
              "      <th>residual sugar</th>\n",
              "      <th>chlorides</th>\n",
              "      <th>free sulfur dioxide</th>\n",
              "      <th>total sulfur dioxide</th>\n",
              "      <th>density</th>\n",
              "      <th>pH</th>\n",
              "      <th>sulphates</th>\n",
              "      <th>alcohol</th>\n",
              "      <th>quality</th>\n",
              "    </tr>\n",
              "  </thead>\n",
              "  <tbody>\n",
              "    <tr>\n",
              "      <th>0</th>\n",
              "      <td>7.4</td>\n",
              "      <td>0.700</td>\n",
              "      <td>0.00</td>\n",
              "      <td>1.9</td>\n",
              "      <td>0.076</td>\n",
              "      <td>11.0</td>\n",
              "      <td>34.0</td>\n",
              "      <td>0.99780</td>\n",
              "      <td>3.51</td>\n",
              "      <td>0.56</td>\n",
              "      <td>9.4</td>\n",
              "      <td>5</td>\n",
              "    </tr>\n",
              "    <tr>\n",
              "      <th>1</th>\n",
              "      <td>7.8</td>\n",
              "      <td>0.880</td>\n",
              "      <td>0.00</td>\n",
              "      <td>2.6</td>\n",
              "      <td>0.098</td>\n",
              "      <td>25.0</td>\n",
              "      <td>67.0</td>\n",
              "      <td>0.99680</td>\n",
              "      <td>3.20</td>\n",
              "      <td>0.68</td>\n",
              "      <td>9.8</td>\n",
              "      <td>5</td>\n",
              "    </tr>\n",
              "    <tr>\n",
              "      <th>2</th>\n",
              "      <td>7.8</td>\n",
              "      <td>0.760</td>\n",
              "      <td>0.04</td>\n",
              "      <td>2.3</td>\n",
              "      <td>0.092</td>\n",
              "      <td>15.0</td>\n",
              "      <td>54.0</td>\n",
              "      <td>0.99700</td>\n",
              "      <td>3.26</td>\n",
              "      <td>0.65</td>\n",
              "      <td>9.8</td>\n",
              "      <td>5</td>\n",
              "    </tr>\n",
              "    <tr>\n",
              "      <th>3</th>\n",
              "      <td>11.2</td>\n",
              "      <td>0.280</td>\n",
              "      <td>0.56</td>\n",
              "      <td>1.9</td>\n",
              "      <td>0.075</td>\n",
              "      <td>17.0</td>\n",
              "      <td>60.0</td>\n",
              "      <td>0.99800</td>\n",
              "      <td>3.16</td>\n",
              "      <td>0.58</td>\n",
              "      <td>9.8</td>\n",
              "      <td>6</td>\n",
              "    </tr>\n",
              "    <tr>\n",
              "      <th>4</th>\n",
              "      <td>7.4</td>\n",
              "      <td>0.700</td>\n",
              "      <td>0.00</td>\n",
              "      <td>1.9</td>\n",
              "      <td>0.076</td>\n",
              "      <td>11.0</td>\n",
              "      <td>34.0</td>\n",
              "      <td>0.99780</td>\n",
              "      <td>3.51</td>\n",
              "      <td>0.56</td>\n",
              "      <td>9.4</td>\n",
              "      <td>5</td>\n",
              "    </tr>\n",
              "    <tr>\n",
              "      <th>...</th>\n",
              "      <td>...</td>\n",
              "      <td>...</td>\n",
              "      <td>...</td>\n",
              "      <td>...</td>\n",
              "      <td>...</td>\n",
              "      <td>...</td>\n",
              "      <td>...</td>\n",
              "      <td>...</td>\n",
              "      <td>...</td>\n",
              "      <td>...</td>\n",
              "      <td>...</td>\n",
              "      <td>...</td>\n",
              "    </tr>\n",
              "    <tr>\n",
              "      <th>1594</th>\n",
              "      <td>6.2</td>\n",
              "      <td>0.600</td>\n",
              "      <td>0.08</td>\n",
              "      <td>2.0</td>\n",
              "      <td>0.090</td>\n",
              "      <td>32.0</td>\n",
              "      <td>44.0</td>\n",
              "      <td>0.99490</td>\n",
              "      <td>3.45</td>\n",
              "      <td>0.58</td>\n",
              "      <td>10.5</td>\n",
              "      <td>5</td>\n",
              "    </tr>\n",
              "    <tr>\n",
              "      <th>1595</th>\n",
              "      <td>5.9</td>\n",
              "      <td>0.550</td>\n",
              "      <td>0.10</td>\n",
              "      <td>2.2</td>\n",
              "      <td>0.062</td>\n",
              "      <td>39.0</td>\n",
              "      <td>51.0</td>\n",
              "      <td>0.99512</td>\n",
              "      <td>3.52</td>\n",
              "      <td>0.76</td>\n",
              "      <td>11.2</td>\n",
              "      <td>6</td>\n",
              "    </tr>\n",
              "    <tr>\n",
              "      <th>1596</th>\n",
              "      <td>6.3</td>\n",
              "      <td>0.510</td>\n",
              "      <td>0.13</td>\n",
              "      <td>2.3</td>\n",
              "      <td>0.076</td>\n",
              "      <td>29.0</td>\n",
              "      <td>40.0</td>\n",
              "      <td>0.99574</td>\n",
              "      <td>3.42</td>\n",
              "      <td>0.75</td>\n",
              "      <td>11.0</td>\n",
              "      <td>6</td>\n",
              "    </tr>\n",
              "    <tr>\n",
              "      <th>1597</th>\n",
              "      <td>5.9</td>\n",
              "      <td>0.645</td>\n",
              "      <td>0.12</td>\n",
              "      <td>2.0</td>\n",
              "      <td>0.075</td>\n",
              "      <td>32.0</td>\n",
              "      <td>44.0</td>\n",
              "      <td>0.99547</td>\n",
              "      <td>3.57</td>\n",
              "      <td>0.71</td>\n",
              "      <td>10.2</td>\n",
              "      <td>5</td>\n",
              "    </tr>\n",
              "    <tr>\n",
              "      <th>1598</th>\n",
              "      <td>6.0</td>\n",
              "      <td>0.310</td>\n",
              "      <td>0.47</td>\n",
              "      <td>3.6</td>\n",
              "      <td>0.067</td>\n",
              "      <td>18.0</td>\n",
              "      <td>42.0</td>\n",
              "      <td>0.99549</td>\n",
              "      <td>3.39</td>\n",
              "      <td>0.66</td>\n",
              "      <td>11.0</td>\n",
              "      <td>6</td>\n",
              "    </tr>\n",
              "  </tbody>\n",
              "</table>\n",
              "<p>1599 rows × 12 columns</p>\n",
              "</div>"
            ],
            "text/plain": [
              "      fixed acidity  volatile acidity  citric acid  ...  sulphates  alcohol  quality\n",
              "0               7.4             0.700         0.00  ...       0.56      9.4        5\n",
              "1               7.8             0.880         0.00  ...       0.68      9.8        5\n",
              "2               7.8             0.760         0.04  ...       0.65      9.8        5\n",
              "3              11.2             0.280         0.56  ...       0.58      9.8        6\n",
              "4               7.4             0.700         0.00  ...       0.56      9.4        5\n",
              "...             ...               ...          ...  ...        ...      ...      ...\n",
              "1594            6.2             0.600         0.08  ...       0.58     10.5        5\n",
              "1595            5.9             0.550         0.10  ...       0.76     11.2        6\n",
              "1596            6.3             0.510         0.13  ...       0.75     11.0        6\n",
              "1597            5.9             0.645         0.12  ...       0.71     10.2        5\n",
              "1598            6.0             0.310         0.47  ...       0.66     11.0        6\n",
              "\n",
              "[1599 rows x 12 columns]"
            ]
          },
          "metadata": {},
          "execution_count": 3
        }
      ]
    },
    {
      "cell_type": "code",
      "metadata": {
        "colab": {
          "base_uri": "https://localhost:8080/",
          "height": 174
        },
        "id": "raSLlenlI3ST",
        "outputId": "802efe5a-3a91-4fed-b369-492fd7be398a"
      },
      "source": [
        "wine_df.isnull().describe()"
      ],
      "execution_count": null,
      "outputs": [
        {
          "output_type": "execute_result",
          "data": {
            "text/html": [
              "<div>\n",
              "<style scoped>\n",
              "    .dataframe tbody tr th:only-of-type {\n",
              "        vertical-align: middle;\n",
              "    }\n",
              "\n",
              "    .dataframe tbody tr th {\n",
              "        vertical-align: top;\n",
              "    }\n",
              "\n",
              "    .dataframe thead th {\n",
              "        text-align: right;\n",
              "    }\n",
              "</style>\n",
              "<table border=\"1\" class=\"dataframe\">\n",
              "  <thead>\n",
              "    <tr style=\"text-align: right;\">\n",
              "      <th></th>\n",
              "      <th>fixed acidity</th>\n",
              "      <th>volatile acidity</th>\n",
              "      <th>citric acid</th>\n",
              "      <th>residual sugar</th>\n",
              "      <th>chlorides</th>\n",
              "      <th>free sulfur dioxide</th>\n",
              "      <th>total sulfur dioxide</th>\n",
              "      <th>density</th>\n",
              "      <th>pH</th>\n",
              "      <th>sulphates</th>\n",
              "      <th>alcohol</th>\n",
              "      <th>quality</th>\n",
              "    </tr>\n",
              "  </thead>\n",
              "  <tbody>\n",
              "    <tr>\n",
              "      <th>count</th>\n",
              "      <td>1599</td>\n",
              "      <td>1599</td>\n",
              "      <td>1599</td>\n",
              "      <td>1599</td>\n",
              "      <td>1599</td>\n",
              "      <td>1599</td>\n",
              "      <td>1599</td>\n",
              "      <td>1599</td>\n",
              "      <td>1599</td>\n",
              "      <td>1599</td>\n",
              "      <td>1599</td>\n",
              "      <td>1599</td>\n",
              "    </tr>\n",
              "    <tr>\n",
              "      <th>unique</th>\n",
              "      <td>1</td>\n",
              "      <td>1</td>\n",
              "      <td>1</td>\n",
              "      <td>1</td>\n",
              "      <td>1</td>\n",
              "      <td>1</td>\n",
              "      <td>1</td>\n",
              "      <td>1</td>\n",
              "      <td>1</td>\n",
              "      <td>1</td>\n",
              "      <td>1</td>\n",
              "      <td>1</td>\n",
              "    </tr>\n",
              "    <tr>\n",
              "      <th>top</th>\n",
              "      <td>False</td>\n",
              "      <td>False</td>\n",
              "      <td>False</td>\n",
              "      <td>False</td>\n",
              "      <td>False</td>\n",
              "      <td>False</td>\n",
              "      <td>False</td>\n",
              "      <td>False</td>\n",
              "      <td>False</td>\n",
              "      <td>False</td>\n",
              "      <td>False</td>\n",
              "      <td>False</td>\n",
              "    </tr>\n",
              "    <tr>\n",
              "      <th>freq</th>\n",
              "      <td>1599</td>\n",
              "      <td>1599</td>\n",
              "      <td>1599</td>\n",
              "      <td>1599</td>\n",
              "      <td>1599</td>\n",
              "      <td>1599</td>\n",
              "      <td>1599</td>\n",
              "      <td>1599</td>\n",
              "      <td>1599</td>\n",
              "      <td>1599</td>\n",
              "      <td>1599</td>\n",
              "      <td>1599</td>\n",
              "    </tr>\n",
              "  </tbody>\n",
              "</table>\n",
              "</div>"
            ],
            "text/plain": [
              "       fixed acidity volatile acidity citric acid  ... sulphates alcohol quality\n",
              "count           1599             1599        1599  ...      1599    1599    1599\n",
              "unique             1                1           1  ...         1       1       1\n",
              "top            False            False       False  ...     False   False   False\n",
              "freq            1599             1599        1599  ...      1599    1599    1599\n",
              "\n",
              "[4 rows x 12 columns]"
            ]
          },
          "metadata": {},
          "execution_count": 6
        }
      ]
    },
    {
      "cell_type": "markdown",
      "metadata": {
        "id": "3AzfYZwpJDhs"
      },
      "source": [
        "Vemos aquí que el dataset no presenta problemas de datos faltantes o valores nulos en él.\n"
      ]
    },
    {
      "cell_type": "code",
      "metadata": {
        "colab": {
          "base_uri": "https://localhost:8080/",
          "height": 701
        },
        "id": "jYBLj9ffinJh",
        "outputId": "7dc94a4c-097d-4889-9474-159fa10291f8"
      },
      "source": [
        "wine_df.dtypes, wine_df['quality'].describe(),  wine_df['quality'].hist(), features"
      ],
      "execution_count": null,
      "outputs": [
        {
          "output_type": "execute_result",
          "data": {
            "text/plain": [
              "(fixed acidity           float64\n",
              " volatile acidity        float64\n",
              " citric acid             float64\n",
              " residual sugar          float64\n",
              " chlorides               float64\n",
              " free sulfur dioxide     float64\n",
              " total sulfur dioxide    float64\n",
              " density                 float64\n",
              " pH                      float64\n",
              " sulphates               float64\n",
              " alcohol                 float64\n",
              " quality                   int64\n",
              " dtype: object, count    1599.000000\n",
              " mean        5.636023\n",
              " std         0.807569\n",
              " min         3.000000\n",
              " 25%         5.000000\n",
              " 50%         6.000000\n",
              " 75%         6.000000\n",
              " max         8.000000\n",
              " Name: quality, dtype: float64, <matplotlib.axes._subplots.AxesSubplot at 0x7f39a5189d50>, Index(['fixed acidity', 'volatile acidity', 'citric acid', 'residual sugar',\n",
              "        'chlorides', 'free sulfur dioxide', 'total sulfur dioxide', 'density',\n",
              "        'pH', 'sulphates', 'alcohol'],\n",
              "       dtype='object'))"
            ]
          },
          "metadata": {},
          "execution_count": 7
        },
        {
          "output_type": "display_data",
          "data": {
            "image/png": "[encoded data removed]",
            "text/plain": [
              "<Figure size 432x288 with 1 Axes>"
            ]
          },
          "metadata": {
            "needs_background": "light"
          }
        }
      ]
    },
    {
      "cell_type": "markdown",
      "metadata": {
        "id": "VBSFU_Kbsw8E"
      },
      "source": [
        "Se estudia la distribución de la variable 'quality'. Podemos ver que es discreta, en paricular ordinal.  \n",
        "\n",
        "\n"
      ]
    },
    {
      "cell_type": "markdown",
      "metadata": {
        "id": "vEL2jqYaguOQ"
      },
      "source": [
        "### Estudio de los features y la correlación de las variables"
      ]
    },
    {
      "cell_type": "code",
      "metadata": {
        "colab": {
          "base_uri": "https://localhost:8080/",
          "height": 314
        },
        "id": "Q9MfrEmLdVoY",
        "outputId": "8fae758a-b20e-4df6-c5f8-9f0dd4a8ee0c"
      },
      "source": [
        "plt.figure(figsize=(20,20))\n",
        "wine_df.hist()\n",
        "plt.tight_layout()\n",
        "plt.show()"
      ],
      "execution_count": null,
      "outputs": [
        {
          "output_type": "display_data",
          "data": {
            "text/plain": [
              "<Figure size 1440x1440 with 0 Axes>"
            ]
          },
          "metadata": {}
        },
        {
          "output_type": "display_data",
          "data": {
            "image/png": "[encoded data removed]",
            "text/plain": [
              "<Figure size 432x288 with 12 Axes>"
            ]
          },
          "metadata": {
            "needs_background": "light"
          }
        }
      ]
    },
    {
      "cell_type": "markdown",
      "metadata": {
        "id": "YtXqmp96p6nI"
      },
      "source": [
        "La idea es ver las distintas distribuciones de los features. En particular, la mayoría de ellos pareciera tener distribución normal. No obstante, 'free sulfure dioxide', 'total sulfure dioxide', 'residual sugar', 'alcohol' y 'citric acid' parecieran tener distribuciones exponenciales.\n",
        "\n",
        "Además, no parece haber features que tengan grandes problemas con puntos fuera de la distribución. Es decir, no parecieran haber outliers."
      ]
    },
    {
      "cell_type": "code",
      "metadata": {
        "colab": {
          "base_uri": "https://localhost:8080/",
          "height": 477
        },
        "id": "jl321Q0LdgcQ",
        "outputId": "0d6ec904-ac27-47ea-b5f6-0ae330b85c35"
      },
      "source": [
        "correlations = wine_df.corr(method='pearson')\n",
        "correlations\n",
        "# ('alcohol', 0.47616632400114156),  --> density\n",
        "# ('volatile acidity', -0.3905577802640094),  --> citric acid\n",
        "# ('sulphates', 0.25139707906926206),\n",
        "# ('citric acid', 0.2263725143180432),\n",
        "# ('total sulfur dioxide', -0.18510028892653843),\n",
        "# ('density', -0.1749192277833492),\n",
        "# Mucha correlacion > 0.5"
      ],
      "execution_count": null,
      "outputs": [
        {
          "output_type": "execute_result",
          "data": {
            "text/html": [
              "<div>\n",
              "<style scoped>\n",
              "    .dataframe tbody tr th:only-of-type {\n",
              "        vertical-align: middle;\n",
              "    }\n",
              "\n",
              "    .dataframe tbody tr th {\n",
              "        vertical-align: top;\n",
              "    }\n",
              "\n",
              "    .dataframe thead th {\n",
              "        text-align: right;\n",
              "    }\n",
              "</style>\n",
              "<table border=\"1\" class=\"dataframe\">\n",
              "  <thead>\n",
              "    <tr style=\"text-align: right;\">\n",
              "      <th></th>\n",
              "      <th>fixed acidity</th>\n",
              "      <th>volatile acidity</th>\n",
              "      <th>citric acid</th>\n",
              "      <th>residual sugar</th>\n",
              "      <th>chlorides</th>\n",
              "      <th>free sulfur dioxide</th>\n",
              "      <th>total sulfur dioxide</th>\n",
              "      <th>density</th>\n",
              "      <th>pH</th>\n",
              "      <th>sulphates</th>\n",
              "      <th>alcohol</th>\n",
              "      <th>quality</th>\n",
              "    </tr>\n",
              "  </thead>\n",
              "  <tbody>\n",
              "    <tr>\n",
              "      <th>fixed acidity</th>\n",
              "      <td>1.000000</td>\n",
              "      <td>-0.256131</td>\n",
              "      <td>0.671703</td>\n",
              "      <td>0.114777</td>\n",
              "      <td>0.093705</td>\n",
              "      <td>-0.153794</td>\n",
              "      <td>-0.113181</td>\n",
              "      <td>0.668047</td>\n",
              "      <td>-0.682978</td>\n",
              "      <td>0.183006</td>\n",
              "      <td>-0.061668</td>\n",
              "      <td>0.124052</td>\n",
              "    </tr>\n",
              "    <tr>\n",
              "      <th>volatile acidity</th>\n",
              "      <td>-0.256131</td>\n",
              "      <td>1.000000</td>\n",
              "      <td>-0.552496</td>\n",
              "      <td>0.001918</td>\n",
              "      <td>0.061298</td>\n",
              "      <td>-0.010504</td>\n",
              "      <td>0.076470</td>\n",
              "      <td>0.022026</td>\n",
              "      <td>0.234937</td>\n",
              "      <td>-0.260987</td>\n",
              "      <td>-0.202288</td>\n",
              "      <td>-0.390558</td>\n",
              "    </tr>\n",
              "    <tr>\n",
              "      <th>citric acid</th>\n",
              "      <td>0.671703</td>\n",
              "      <td>-0.552496</td>\n",
              "      <td>1.000000</td>\n",
              "      <td>0.143577</td>\n",
              "      <td>0.203823</td>\n",
              "      <td>-0.060978</td>\n",
              "      <td>0.035533</td>\n",
              "      <td>0.364947</td>\n",
              "      <td>-0.541904</td>\n",
              "      <td>0.312770</td>\n",
              "      <td>0.109903</td>\n",
              "      <td>0.226373</td>\n",
              "    </tr>\n",
              "    <tr>\n",
              "      <th>residual sugar</th>\n",
              "      <td>0.114777</td>\n",
              "      <td>0.001918</td>\n",
              "      <td>0.143577</td>\n",
              "      <td>1.000000</td>\n",
              "      <td>0.055610</td>\n",
              "      <td>0.187049</td>\n",
              "      <td>0.203028</td>\n",
              "      <td>0.355283</td>\n",
              "      <td>-0.085652</td>\n",
              "      <td>0.005527</td>\n",
              "      <td>0.042075</td>\n",
              "      <td>0.013732</td>\n",
              "    </tr>\n",
              "    <tr>\n",
              "      <th>chlorides</th>\n",
              "      <td>0.093705</td>\n",
              "      <td>0.061298</td>\n",
              "      <td>0.203823</td>\n",
              "      <td>0.055610</td>\n",
              "      <td>1.000000</td>\n",
              "      <td>0.005562</td>\n",
              "      <td>0.047400</td>\n",
              "      <td>0.200632</td>\n",
              "      <td>-0.265026</td>\n",
              "      <td>0.371260</td>\n",
              "      <td>-0.221141</td>\n",
              "      <td>-0.128907</td>\n",
              "    </tr>\n",
              "    <tr>\n",
              "      <th>free sulfur dioxide</th>\n",
              "      <td>-0.153794</td>\n",
              "      <td>-0.010504</td>\n",
              "      <td>-0.060978</td>\n",
              "      <td>0.187049</td>\n",
              "      <td>0.005562</td>\n",
              "      <td>1.000000</td>\n",
              "      <td>0.667666</td>\n",
              "      <td>-0.021946</td>\n",
              "      <td>0.070377</td>\n",
              "      <td>0.051658</td>\n",
              "      <td>-0.069408</td>\n",
              "      <td>-0.050656</td>\n",
              "    </tr>\n",
              "    <tr>\n",
              "      <th>total sulfur dioxide</th>\n",
              "      <td>-0.113181</td>\n",
              "      <td>0.076470</td>\n",
              "      <td>0.035533</td>\n",
              "      <td>0.203028</td>\n",
              "      <td>0.047400</td>\n",
              "      <td>0.667666</td>\n",
              "      <td>1.000000</td>\n",
              "      <td>0.071269</td>\n",
              "      <td>-0.066495</td>\n",
              "      <td>0.042947</td>\n",
              "      <td>-0.205654</td>\n",
              "      <td>-0.185100</td>\n",
              "    </tr>\n",
              "    <tr>\n",
              "      <th>density</th>\n",
              "      <td>0.668047</td>\n",
              "      <td>0.022026</td>\n",
              "      <td>0.364947</td>\n",
              "      <td>0.355283</td>\n",
              "      <td>0.200632</td>\n",
              "      <td>-0.021946</td>\n",
              "      <td>0.071269</td>\n",
              "      <td>1.000000</td>\n",
              "      <td>-0.341699</td>\n",
              "      <td>0.148506</td>\n",
              "      <td>-0.496180</td>\n",
              "      <td>-0.174919</td>\n",
              "    </tr>\n",
              "    <tr>\n",
              "      <th>pH</th>\n",
              "      <td>-0.682978</td>\n",
              "      <td>0.234937</td>\n",
              "      <td>-0.541904</td>\n",
              "      <td>-0.085652</td>\n",
              "      <td>-0.265026</td>\n",
              "      <td>0.070377</td>\n",
              "      <td>-0.066495</td>\n",
              "      <td>-0.341699</td>\n",
              "      <td>1.000000</td>\n",
              "      <td>-0.196648</td>\n",
              "      <td>0.205633</td>\n",
              "      <td>-0.057731</td>\n",
              "    </tr>\n",
              "    <tr>\n",
              "      <th>sulphates</th>\n",
              "      <td>0.183006</td>\n",
              "      <td>-0.260987</td>\n",
              "      <td>0.312770</td>\n",
              "      <td>0.005527</td>\n",
              "      <td>0.371260</td>\n",
              "      <td>0.051658</td>\n",
              "      <td>0.042947</td>\n",
              "      <td>0.148506</td>\n",
              "      <td>-0.196648</td>\n",
              "      <td>1.000000</td>\n",
              "      <td>0.093595</td>\n",
              "      <td>0.251397</td>\n",
              "    </tr>\n",
              "    <tr>\n",
              "      <th>alcohol</th>\n",
              "      <td>-0.061668</td>\n",
              "      <td>-0.202288</td>\n",
              "      <td>0.109903</td>\n",
              "      <td>0.042075</td>\n",
              "      <td>-0.221141</td>\n",
              "      <td>-0.069408</td>\n",
              "      <td>-0.205654</td>\n",
              "      <td>-0.496180</td>\n",
              "      <td>0.205633</td>\n",
              "      <td>0.093595</td>\n",
              "      <td>1.000000</td>\n",
              "      <td>0.476166</td>\n",
              "    </tr>\n",
              "    <tr>\n",
              "      <th>quality</th>\n",
              "      <td>0.124052</td>\n",
              "      <td>-0.390558</td>\n",
              "      <td>0.226373</td>\n",
              "      <td>0.013732</td>\n",
              "      <td>-0.128907</td>\n",
              "      <td>-0.050656</td>\n",
              "      <td>-0.185100</td>\n",
              "      <td>-0.174919</td>\n",
              "      <td>-0.057731</td>\n",
              "      <td>0.251397</td>\n",
              "      <td>0.476166</td>\n",
              "      <td>1.000000</td>\n",
              "    </tr>\n",
              "  </tbody>\n",
              "</table>\n",
              "</div>"
            ],
            "text/plain": [
              "                      fixed acidity  volatile acidity  ...   alcohol   quality\n",
              "fixed acidity              1.000000         -0.256131  ... -0.061668  0.124052\n",
              "volatile acidity          -0.256131          1.000000  ... -0.202288 -0.390558\n",
              "citric acid                0.671703         -0.552496  ...  0.109903  0.226373\n",
              "residual sugar             0.114777          0.001918  ...  0.042075  0.013732\n",
              "chlorides                  0.093705          0.061298  ... -0.221141 -0.128907\n",
              "free sulfur dioxide       -0.153794         -0.010504  ... -0.069408 -0.050656\n",
              "total sulfur dioxide      -0.113181          0.076470  ... -0.205654 -0.185100\n",
              "density                    0.668047          0.022026  ... -0.496180 -0.174919\n",
              "pH                        -0.682978          0.234937  ...  0.205633 -0.057731\n",
              "sulphates                  0.183006         -0.260987  ...  0.093595  0.251397\n",
              "alcohol                   -0.061668         -0.202288  ...  1.000000  0.476166\n",
              "quality                    0.124052         -0.390558  ...  0.476166  1.000000\n",
              "\n",
              "[12 rows x 12 columns]"
            ]
          },
          "metadata": {},
          "execution_count": 9
        }
      ]
    },
    {
      "cell_type": "markdown",
      "metadata": {
        "id": "4ssAxehxqaZP"
      },
      "source": [
        "Aquí se presenta la matriz de correlaciones de los distintos features. Luego se utilizaran los 6 más correlacionados con la variable 'quality' para realizar un modelo de regresión lineal. Sin embargo, resulta interesante notar que hay dos de ellos (alcohol y volatile acidity) que pueden generar problemas por estar bastante correlacionados (correlacion > 0.5) con otros dos features (density y citric acid respectivamente)"
      ]
    },
    {
      "cell_type": "code",
      "metadata": {
        "colab": {
          "base_uri": "https://localhost:8080/",
          "height": 691
        },
        "id": "phB36YdsdzKg",
        "outputId": "0e417325-ad9c-4a77-a76e-6869eecf8ad0"
      },
      "source": [
        "plt.figure(figsize=(10,10))\n",
        "sns.heatmap(correlations, cbar=True, cmap='RdYlBu')\n",
        "plt.title('Correlation Matrix - Pearson')\n",
        "plt.show()"
      ],
      "execution_count": null,
      "outputs": [
        {
          "output_type": "display_data",
          "data": {
            "image/png": "[encoded data removed]",
            "text/plain": [
              "<Figure size 720x720 with 2 Axes>"
            ]
          },
          "metadata": {
            "needs_background": "light"
          }
        }
      ]
    },
    {
      "cell_type": "code",
      "metadata": {
        "colab": {
          "base_uri": "https://localhost:8080/",
          "height": 691
        },
        "id": "LmoBGCkFP24g",
        "outputId": "85e4dbf8-daaa-49ce-b4af-fad495fe9887"
      },
      "source": [
        "plt.figure(figsize=(10,10))\n",
        "sns.heatmap(wine_df.corr(method='spearman'), cbar=True, cmap='RdYlBu')\n",
        "plt.title('Correlation Matrix - Spearman')\n",
        "plt.show()\n"
      ],
      "execution_count": null,
      "outputs": [
        {
          "output_type": "display_data",
          "data": {
            "image/png": "[encoded data removed]",
            "text/plain": [
              "<Figure size 720x720 with 2 Axes>"
            ]
          },
          "metadata": {
            "needs_background": "light"
          }
        }
      ]
    },
    {
      "cell_type": "markdown",
      "metadata": {
        "id": "tzsXs_UNrF7w"
      },
      "source": [
        "Aquí se presentan graficamente las matrices de correlacion de los feature. En particular se utilizan dos metricas de correlación distintas (Pearson y Spearmann)"
      ]
    },
    {
      "cell_type": "markdown",
      "metadata": {
        "id": "GeMjsPe0g0lt"
      },
      "source": [
        "### Heterocerasticidad"
      ]
    },
    {
      "cell_type": "code",
      "metadata": {
        "colab": {
          "base_uri": "https://localhost:8080/",
          "height": 1000
        },
        "id": "z7gQA89ZenJY",
        "outputId": "b9edc887-92a8-4d6d-de55-1e5a5038fecc"
      },
      "source": [
        "features = wine_df.columns[0:-1]\n",
        "label = wine_df['quality']\n",
        "f, ax = plt.subplots(3,4, figsize=(20,20))\n",
        "i = 0\n",
        "for j in range(3):\n",
        "  for a in ax[j]:\n",
        "    if i < 11:\n",
        "      a.scatter(label, wine_df[features[i]])\n",
        "      a.set_title(features[i])\n",
        "      i += 1"
      ],
      "execution_count": null,
      "outputs": [
        {
          "output_type": "display_data",
          "data": {
            "image/png": "[encoded data removed]",
            "text/plain": [
              "<Figure size 1440x1440 with 12 Axes>"
            ]
          },
          "metadata": {
            "needs_background": "light"
          }
        }
      ]
    },
    {
      "cell_type": "markdown",
      "metadata": {
        "id": "67bSsl-prbNX"
      },
      "source": [
        "Aquí se grafican las distintas features en función del label 'quality'. Esto puede ayudar a ver la correlación entre cada una de las variables y la clase a predecir, asi como también entender la disperción de los valores de cada feature según el valor de la clase.\n",
        "\n",
        "Además, a simple vista, pareciera que los distintos features no presentan grandes problemas de heterocerasticidad."
      ]
    },
    {
      "cell_type": "code",
      "metadata": {
        "id": "e_GiGrGqloQg",
        "colab": {
          "base_uri": "https://localhost:8080/"
        },
        "outputId": "72185cc8-72c0-4aca-be6f-778c99ff5d9a"
      },
      "source": [
        "corr_ord = sorted([(i,coef) for i, coef in zip(correlations.index, correlations['quality'])], key= lambda x : abs(x[1]), reverse=True)\n",
        "corr_ord"
      ],
      "execution_count": null,
      "outputs": [
        {
          "output_type": "execute_result",
          "data": {
            "text/plain": [
              "[('quality', 1.0),\n",
              " ('alcohol', 0.47616632400114156),\n",
              " ('volatile acidity', -0.3905577802640094),\n",
              " ('sulphates', 0.25139707906926206),\n",
              " ('citric acid', 0.2263725143180432),\n",
              " ('total sulfur dioxide', -0.18510028892653843),\n",
              " ('density', -0.1749192277833492),\n",
              " ('chlorides', -0.12890655993005315),\n",
              " ('fixed acidity', 0.1240516491132247),\n",
              " ('pH', -0.0577313912053823),\n",
              " ('free sulfur dioxide', -0.05065605724427643),\n",
              " ('residual sugar', 0.013731637340066346)]"
            ]
          },
          "metadata": {},
          "execution_count": 13
        }
      ]
    },
    {
      "cell_type": "markdown",
      "metadata": {
        "id": "baJq-RphruHt"
      },
      "source": [
        "Finalmente, se ordenan los features en orden de correlación con la clase 'quality'. De esta forma, se puede luego elegir las k features mas correlacionadas con la clase a predecir para crear los modelos de regresión lineal."
      ]
    },
    {
      "cell_type": "markdown",
      "metadata": {
        "id": "ja0NRh7-kcr7"
      },
      "source": [
        "# PARTE 2\n",
        "Partiendo de los atributos de características del vino utilice el método de regresión \n",
        "lineal para predecir la calidad del mismo. Analice los resultados obtenidos. Revise y \n",
        "discuta si existen mecanismos para mejorar las métricas que arroja este modelo."
      ]
    },
    {
      "cell_type": "markdown",
      "metadata": {
        "id": "gOTzvrhQtbNf"
      },
      "source": [
        "Para una regresión lineal se podrían utilizar todos los features. Sin embargo,esto no solo genera un retrabajo innecesario (ya que puede que ciertas variables no aporten a la predicción), sino que ademas podrían generar peores modelos.\n",
        "\n",
        "Para la seleccion de las variables tomamos dos caminos distintos. En primer lugar, y como adelantamos antes, elegimos las k variables mas correlacionadas con la clase. En segundo lugar, utilizamos el metod SlectKBest de sklearn, que elige las k variables que generan mejores resultados.\n",
        "\n",
        "Esta función evalua los distintos features y selecciona los K mejores, en base a una funcion que devuelve un score y su pvalor para cada uno de ellos. En particular, para esa función de score utilizamos chi2 de sklearn. Este computa el estadístico de Chi^2 para los distintos features."
      ]
    },
    {
      "cell_type": "code",
      "metadata": {
        "id": "bGoM3ySEhX3N"
      },
      "source": [
        "from sklearn import linear_model\n",
        "from sklearn.metrics import mean_squared_error, r2_score, mean_absolute_error\n",
        "from sklearn.model_selection import train_test_split\n",
        "\n",
        "sample = 0.8\n",
        "n_features = 5\n",
        "\n",
        "def get_X_Y(sample, n_features, df, corr_ord):\n",
        "\n",
        "  df_train, df_test = train_test_split(df, test_size=1-sample)\n",
        "\n",
        "  X_train = df_train[[i[0] for i in corr_ord[1:n_features]]]\n",
        "  X_test = df_test[[i[0] for i in corr_ord[1:n_features]]]\n",
        "  Y_train = df_train['quality']\n",
        "  Y_test = df_test['quality']\n",
        "\n",
        "  \n",
        "  return X_train, X_test, Y_train, Y_test\n"
      ],
      "execution_count": null,
      "outputs": []
    },
    {
      "cell_type": "code",
      "metadata": {
        "colab": {
          "base_uri": "https://localhost:8080/"
        },
        "id": "EdW--Wr8NFqx",
        "outputId": "27b8ca90-a4a4-4579-8400-aaa28b84eb46"
      },
      "source": [
        "from sklearn.feature_selection import SelectKBest\n",
        "from sklearn.feature_selection import chi2\n",
        "from sklearn.pipeline import Pipeline\n",
        "\n",
        "X_train, X_test, Y_train, Y_test = get_X_Y(sample, len(corr_ord), wine_df, corr_ord)\n",
        "\n",
        "pipe = Pipeline([('fselector', SelectKBest(chi2, k=6)), ('l_reg', linear_model.LinearRegression())])\n",
        "pipe.fit(X_train, Y_train)\n",
        "Y_pred = pipe.predict(X_test)\n",
        "\n",
        "mse = mean_squared_error(Y_test, Y_pred)\n",
        "r2 = r2_score(Y_test, Y_pred)\n",
        "mae =  mean_absolute_error(Y_test, Y_pred)\n",
        "\n",
        "print('MSE: %.2f' % mse)\n",
        "print('R2: %.2f' % r2)\n",
        "print('MAE: %.2f' % mae)\n"
      ],
      "execution_count": null,
      "outputs": [
        {
          "output_type": "stream",
          "name": "stdout",
          "text": [
            "MSE: 0.47\n",
            "R2: 0.31\n",
            "MAE: 0.52\n"
          ]
        }
      ]
    },
    {
      "cell_type": "code",
      "metadata": {
        "colab": {
          "base_uri": "https://localhost:8080/"
        },
        "id": "ba6Kd6iJNExb",
        "outputId": "27b8ca90-a4a4-4579-8400-aaa28b84eb46"
      },
      "source": [
        "from sklearn.feature_selection import SelectKBest\n",
        "from sklearn.feature_selection import chi2\n",
        "from sklearn.pipeline import Pipeline\n",
        "\n",
        "X_train, X_test, Y_train, Y_test = get_X_Y(sample, len(corr_ord), wine_df, corr_ord)\n",
        "\n",
        "pipe = Pipeline([('fselector', SelectKBest(chi2, k=6)), ('l_reg', linear_model.LinearRegression())])\n",
        "pipe.fit(X_train, Y_train)\n",
        "Y_pred = pipe.predict(X_test)\n",
        "\n",
        "mse = mean_squared_error(Y_test, Y_pred)\n",
        "r2 = r2_score(Y_test, Y_pred)\n",
        "mae =  mean_absolute_error(Y_test, Y_pred)\n",
        "\n",
        "print('MSE: %.2f' % mse)\n",
        "print('R2: %.2f' % r2)\n",
        "print('MAE: %.2f' % mae)\n"
      ],
      "execution_count": null,
      "outputs": [
        {
          "output_type": "stream",
          "name": "stdout",
          "text": [
            "MSE: 0.47\n",
            "R2: 0.31\n",
            "MAE: 0.52\n"
          ]
        }
      ]
    },
    {
      "cell_type": "code",
      "metadata": {
        "colab": {
          "base_uri": "https://localhost:8080/"
        },
        "id": "y_qgiBRPNDie",
        "outputId": "27b8ca90-a4a4-4579-8400-aaa28b84eb46"
      },
      "source": [
        "from sklearn.feature_selection import SelectKBest\n",
        "from sklearn.feature_selection import chi2\n",
        "from sklearn.pipeline import Pipeline\n",
        "\n",
        "X_train, X_test, Y_train, Y_test = get_X_Y(sample, len(corr_ord), wine_df, corr_ord)\n",
        "\n",
        "pipe = Pipeline([('fselector', SelectKBest(chi2, k=6)), ('l_reg', linear_model.LinearRegression())])\n",
        "pipe.fit(X_train, Y_train)\n",
        "Y_pred = pipe.predict(X_test)\n",
        "\n",
        "mse = mean_squared_error(Y_test, Y_pred)\n",
        "r2 = r2_score(Y_test, Y_pred)\n",
        "mae =  mean_absolute_error(Y_test, Y_pred)\n",
        "\n",
        "print('MSE: %.2f' % mse)\n",
        "print('R2: %.2f' % r2)\n",
        "print('MAE: %.2f' % mae)\n"
      ],
      "execution_count": null,
      "outputs": [
        {
          "output_type": "stream",
          "name": "stdout",
          "text": [
            "MSE: 0.47\n",
            "R2: 0.31\n",
            "MAE: 0.52\n"
          ]
        }
      ]
    },
    {
      "cell_type": "markdown",
      "metadata": {
        "id": "9AM2Ib0qs0Wj"
      },
      "source": [
        "Esta funcion devuelve los vectoers X e Y dado un coeficiente de sample y un número de features a utilizar. En particular se elegien las n_features mas correlacionadas"
      ]
    },
    {
      "cell_type": "code",
      "metadata": {
        "id": "9Y_yOn8pRywB"
      },
      "source": [
        "def my_linear_model(X_train, X_test, Y_train, Y_test):\n",
        "  regr = linear_model.LinearRegression()\n",
        "\n",
        "  regr.fit(X_train, Y_train)\n",
        "\n",
        "  Y_pred = regr.predict(X_test)\n",
        "\n",
        "  mse = mean_squared_error(Y_test, Y_pred)\n",
        "  r2 = r2_score(Y_test, Y_pred)\n",
        "  mae =  mean_absolute_error(Y_test, Y_pred)\n",
        "\n",
        "  # print('MSE: %.2f' % mse)\n",
        "  # print('R2: %.2f' % r2)\n",
        "  # print('MAE: %.2f' % mae)\n",
        "  \n",
        "  return Y_pred, mse, r2, mae"
      ],
      "execution_count": null,
      "outputs": []
    },
    {
      "cell_type": "markdown",
      "metadata": {
        "id": "sPzbje4hs_70"
      },
      "source": [
        "Aqui se ejecuta el modelo lieneal a partir de los vectores X e Y de entrenamiento y validación. Se devuelven las métricas del modelo."
      ]
    },
    {
      "cell_type": "code",
      "metadata": {
        "colab": {
          "base_uri": "https://localhost:8080/",
          "height": 362
        },
        "id": "zaHXPabWLUZI",
        "outputId": "e02b0576-4be8-4f72-98f2-bd9e0e199677"
      },
      "source": [
        "all_linear_models = []\n",
        "sample = 0.8\n",
        "for i in range(2,len(corr_ord)):\n",
        "  X_train, X_test, Y_train, Y_test = get_X_Y(sample, i, wine_df, corr_ord)\n",
        "  Y_pred, mse, r2, mae = my_linear_model(X_train, X_test, Y_train, Y_test)\n",
        "  all_linear_models += [(i,mse,r2,mae)]\n",
        "\n",
        "pd.DataFrame(all_linear_models, columns=['n_feature', 'mse', 'r2', 'mae'])"
      ],
      "execution_count": null,
      "outputs": [
        {
          "output_type": "execute_result",
          "data": {
            "text/html": [
              "<div>\n",
              "<style scoped>\n",
              "    .dataframe tbody tr th:only-of-type {\n",
              "        vertical-align: middle;\n",
              "    }\n",
              "\n",
              "    .dataframe tbody tr th {\n",
              "        vertical-align: top;\n",
              "    }\n",
              "\n",
              "    .dataframe thead th {\n",
              "        text-align: right;\n",
              "    }\n",
              "</style>\n",
              "<table border=\"1\" class=\"dataframe\">\n",
              "  <thead>\n",
              "    <tr style=\"text-align: right;\">\n",
              "      <th></th>\n",
              "      <th>n_feature</th>\n",
              "      <th>mse</th>\n",
              "      <th>r2</th>\n",
              "      <th>mae</th>\n",
              "    </tr>\n",
              "  </thead>\n",
              "  <tbody>\n",
              "    <tr>\n",
              "      <th>0</th>\n",
              "      <td>2</td>\n",
              "      <td>0.566916</td>\n",
              "      <td>0.269637</td>\n",
              "      <td>0.592765</td>\n",
              "    </tr>\n",
              "    <tr>\n",
              "      <th>1</th>\n",
              "      <td>3</td>\n",
              "      <td>0.527217</td>\n",
              "      <td>0.250805</td>\n",
              "      <td>0.567037</td>\n",
              "    </tr>\n",
              "    <tr>\n",
              "      <th>2</th>\n",
              "      <td>4</td>\n",
              "      <td>0.470922</td>\n",
              "      <td>0.284438</td>\n",
              "      <td>0.532868</td>\n",
              "    </tr>\n",
              "    <tr>\n",
              "      <th>3</th>\n",
              "      <td>5</td>\n",
              "      <td>0.414851</td>\n",
              "      <td>0.302118</td>\n",
              "      <td>0.513771</td>\n",
              "    </tr>\n",
              "    <tr>\n",
              "      <th>4</th>\n",
              "      <td>6</td>\n",
              "      <td>0.483087</td>\n",
              "      <td>0.297927</td>\n",
              "      <td>0.532171</td>\n",
              "    </tr>\n",
              "    <tr>\n",
              "      <th>5</th>\n",
              "      <td>7</td>\n",
              "      <td>0.406388</td>\n",
              "      <td>0.349282</td>\n",
              "      <td>0.483678</td>\n",
              "    </tr>\n",
              "    <tr>\n",
              "      <th>6</th>\n",
              "      <td>8</td>\n",
              "      <td>0.440473</td>\n",
              "      <td>0.346606</td>\n",
              "      <td>0.527732</td>\n",
              "    </tr>\n",
              "    <tr>\n",
              "      <th>7</th>\n",
              "      <td>9</td>\n",
              "      <td>0.442076</td>\n",
              "      <td>0.350624</td>\n",
              "      <td>0.508974</td>\n",
              "    </tr>\n",
              "    <tr>\n",
              "      <th>8</th>\n",
              "      <td>10</td>\n",
              "      <td>0.448491</td>\n",
              "      <td>0.407497</td>\n",
              "      <td>0.525387</td>\n",
              "    </tr>\n",
              "    <tr>\n",
              "      <th>9</th>\n",
              "      <td>11</td>\n",
              "      <td>0.422126</td>\n",
              "      <td>0.277646</td>\n",
              "      <td>0.492621</td>\n",
              "    </tr>\n",
              "  </tbody>\n",
              "</table>\n",
              "</div>"
            ],
            "text/plain": [
              "   n_feature       mse        r2       mae\n",
              "0          2  0.566916  0.269637  0.592765\n",
              "1          3  0.527217  0.250805  0.567037\n",
              "2          4  0.470922  0.284438  0.532868\n",
              "3          5  0.414851  0.302118  0.513771\n",
              "4          6  0.483087  0.297927  0.532171\n",
              "5          7  0.406388  0.349282  0.483678\n",
              "6          8  0.440473  0.346606  0.527732\n",
              "7          9  0.442076  0.350624  0.508974\n",
              "8         10  0.448491  0.407497  0.525387\n",
              "9         11  0.422126  0.277646  0.492621"
            ]
          },
          "metadata": {},
          "execution_count": 16
        }
      ]
    },
    {
      "cell_type": "markdown",
      "metadata": {
        "id": "yOAaEAzbtLlZ"
      },
      "source": [
        "Este es el primer approach. Se prueba iterativamente la cantidad de variables a utilizar. En función de las métricas, definimos que n_feature = 6 es una cantidad de variables óptima."
      ]
    },
    {
      "cell_type": "markdown",
      "metadata": {
        "id": "8NQPqqwmg7Z_"
      },
      "source": [
        "### Mejor modelo lineal en base a la correlación de los features"
      ]
    },
    {
      "cell_type": "code",
      "metadata": {
        "colab": {
          "base_uri": "https://localhost:8080/",
          "height": 282
        },
        "id": "LeIRof4ATUVp",
        "outputId": "524faba0-0327-487b-d55c-6657b6f97554"
      },
      "source": [
        "X_train, X_test, Y_train, Y_test = get_X_Y(sample, 6, wine_df, corr_ord)\n",
        "Y_pred, mse, r2, mae = my_linear_model(X_train, X_test, Y_train, Y_test)\n",
        "real = plt.scatter([i for i in range(len(Y_test))], Y_test,c='r')\n",
        "pred = plt.scatter([i for i in range(len(Y_test))], Y_pred,c='b', alpha=0.5)\n",
        "plt.legend([real, pred], ['Real','Pred'])"
      ],
      "execution_count": null,
      "outputs": [
        {
          "output_type": "execute_result",
          "data": {
            "text/plain": [
              "<matplotlib.legend.Legend at 0x7f399be94b10>"
            ]
          },
          "metadata": {},
          "execution_count": 17
        },
        {
          "output_type": "display_data",
          "data": {
            "image/png": "[encoded data removed]",
            "text/plain": [
              "<Figure size 432x288 with 1 Axes>"
            ]
          },
          "metadata": {
            "needs_background": "light"
          }
        }
      ]
    },
    {
      "cell_type": "code",
      "metadata": {
        "colab": {
          "base_uri": "https://localhost:8080/",
          "height": 283
        },
        "id": "yjxfTzquXcI9",
        "outputId": "87184e84-0cad-4bbd-ee5f-8a2a0e50cfbd"
      },
      "source": [
        "errors = plt.scatter([i for i in range(len(Y_test))], [i1-i2 for i1,i2 in zip(Y_pred, Y_test)] ,c='b')\n",
        "plt.legend([errors], ['Error for each prediction'])"
      ],
      "execution_count": null,
      "outputs": [
        {
          "output_type": "execute_result",
          "data": {
            "text/plain": [
              "<matplotlib.legend.Legend at 0x7f39a4957a10>"
            ]
          },
          "metadata": {},
          "execution_count": 21
        },
        {
          "output_type": "display_data",
          "data": {
            "image/png": "[encoded data removed]",
            "text/plain": [
              "<Figure size 432x288 with 1 Axes>"
            ]
          },
          "metadata": {
            "needs_background": "light"
          }
        }
      ]
    },
    {
      "cell_type": "code",
      "metadata": {
        "colab": {
          "base_uri": "https://localhost:8080/",
          "height": 351
        },
        "id": "qJMfewp-YXO9",
        "outputId": "85f9a326-3ab5-45ff-aee8-c2a59c812869"
      },
      "source": [
        "plt.hist([i1-i2 for i1,i2 in zip(Y_pred, Y_test)])"
      ],
      "execution_count": null,
      "outputs": [
        {
          "output_type": "execute_result",
          "data": {
            "text/plain": [
              "(array([ 6., 17., 55., 56., 98., 50., 23.,  8.,  4.,  3.]),\n",
              " array([-1.69847473, -1.29255206, -0.88662939, -0.48070672, -0.07478406,\n",
              "         0.33113861,  0.73706128,  1.14298395,  1.54890661,  1.95482928,\n",
              "         2.36075195]),\n",
              " <a list of 10 Patch objects>)"
            ]
          },
          "metadata": {},
          "execution_count": 22
        },
        {
          "output_type": "display_data",
          "data": {
            "image/png": "[encoded data removed]",
            "text/plain": [
              "<Figure size 432x288 with 1 Axes>"
            ]
          },
          "metadata": {
            "needs_background": "light"
          }
        }
      ]
    },
    {
      "cell_type": "markdown",
      "metadata": {
        "id": "9MchIokgYeor"
      },
      "source": [
        "Arriba se presenta el mejor modelo hallado. Además, se estudia la distribución de los residuos para poder estar seguros que estramos bajo los supuestos para que la regresión lineal sea valida.\n",
        "\n",
        "Aparte de obtener las métricas para el modelo, resulta interesante plotear las predicciones y los valores reales para cada instancia. \n",
        "Aquí podemos observar que las predicciones no son necesariamente un valor discreto, dado que estamos realizando una regresión lineal."
      ]
    },
    {
      "cell_type": "code",
      "metadata": {
        "id": "VHPDythYUfFF",
        "colab": {
          "base_uri": "https://localhost:8080/",
          "height": 334
        },
        "outputId": "451c8e44-6db7-4609-bd0f-41f568fcd101"
      },
      "source": [
        "import math\n",
        "Y_pred_adapted = [math.floor(i) if abs(math.floor(i)-i) <= 0.5 else math.ceil(i) for i in Y_pred]\n",
        "print('MSE: %.2f' % mean_squared_error(Y_test, Y_pred_adapted))\n",
        "print('R2: %.2f' % r2_score(Y_test, Y_pred_adapted))\n",
        "print('MAE: %.2f' % mean_absolute_error(Y_test, Y_pred_adapted))\n",
        "\n",
        "real =  plt.scatter([i for i in range(len(Y_test))], Y_test,c='r')\n",
        "pred = plt.scatter([i for i in range(len(Y_test))], Y_pred_adapted,c='b', alpha=0.5)\n",
        "plt.legend([real, pred], ['Real','Pred. collapsed to discrete'])"
      ],
      "execution_count": null,
      "outputs": [
        {
          "output_type": "stream",
          "name": "stdout",
          "text": [
            "MSE: 0.53\n",
            "R2: 0.14\n",
            "MAE: 0.46\n"
          ]
        },
        {
          "output_type": "execute_result",
          "data": {
            "text/plain": [
              "<matplotlib.legend.Legend at 0x7f39a49ef550>"
            ]
          },
          "metadata": {},
          "execution_count": 23
        },
        {
          "output_type": "display_data",
          "data": {
            "image/png": "[encoded data removed]",
            "text/plain": [
              "<Figure size 432x288 with 1 Axes>"
            ]
          },
          "metadata": {
            "needs_background": "light"
          }
        }
      ]
    },
    {
      "cell_type": "markdown",
      "metadata": {
        "id": "T7Q-eJiRurdg"
      },
      "source": [
        "Visto lo anterior, resulta interesante obtener las métricas del modelo luego de colapsar las predicciones continuas a los posibles valores discretos de la variable 'quality'. Vemos que en este caso las métricas empeoran. \n",
        "\n",
        "Es evidente que si colapsamos las medidas y lo consideramos como un problema de clasificación, pueden haber otras métricas que se adapten mejor al modelo. Sin embargo, utilizando las métricas usadas anteriormente podemos tener cierta comparativa con el modelo anterior."
      ]
    },
    {
      "cell_type": "markdown",
      "metadata": {
        "id": "bzs8o95OhCJ7"
      },
      "source": [
        "### Mejor modelo lineal con SelectKBest"
      ]
    },
    {
      "cell_type": "code",
      "metadata": {
        "id": "VgkZtqMVU04P",
        "colab": {
          "base_uri": "https://localhost:8080/"
        },
        "outputId": "27b8ca90-a4a4-4579-8400-aaa28b84eb46"
      },
      "source": [
        "from sklearn.feature_selection import SelectKBest\n",
        "from sklearn.feature_selection import chi2\n",
        "from sklearn.pipeline import Pipeline\n",
        "\n",
        "X_train, X_test, Y_train, Y_test = get_X_Y(sample, len(corr_ord), wine_df, corr_ord)\n",
        "\n",
        "pipe = Pipeline([('fselector', SelectKBest(chi2, k=6)), ('l_reg', linear_model.LinearRegression())])\n",
        "pipe.fit(X_train, Y_train)\n",
        "Y_pred = pipe.predict(X_test)\n",
        "\n",
        "mse = mean_squared_error(Y_test, Y_pred)\n",
        "r2 = r2_score(Y_test, Y_pred)\n",
        "mae =  mean_absolute_error(Y_test, Y_pred)\n",
        "\n",
        "print('MSE: %.2f' % mse)\n",
        "print('R2: %.2f' % r2)\n",
        "print('MAE: %.2f' % mae)\n"
      ],
      "execution_count": null,
      "outputs": [
        {
          "output_type": "stream",
          "name": "stdout",
          "text": [
            "MSE: 0.47\n",
            "R2: 0.31\n",
            "MAE: 0.52\n"
          ]
        }
      ]
    },
    {
      "cell_type": "markdown",
      "metadata": {
        "id": "USiLGnVUu8ve"
      },
      "source": [
        "En el caso del ChiSelector, utilizamos tambien las mejores 6 features (para ser justos con el modelo de features elegidos según su correlacion).\n",
        "\n",
        "Podemos ver como logramos un modelo similar, con métricas un poco por debajo"
      ]
    },
    {
      "cell_type": "markdown",
      "metadata": {
        "id": "Xc4VTfqYOCYe"
      },
      "source": [
        "# PARTE 3\n",
        "Utilizando los métodos de clasificación vistos en el curso, se pretende encontrar el mejor modelo que permita predecir, a partir de las características disponibles en el dataset [1], la calidad del vino. La variable de calidad debe de convertirse a una clase de 2 valores: bueno y malo,. Será parte del problema definir el umbral de corte para determinar esta clase, partiendo de las categorías definidas en [1].\n",
        "Utilizando los métodos y métricas vistas en el curso, compare los resultados obtenidos. Para todos los métodos utilizados, estudie la relevancia de cada uno de los atributos o features.\n",
        "Para cada uno de los modelos utilizados, detalle los hiperparámetros aplicados.\n",
        "\n"
      ]
    },
    {
      "cell_type": "markdown",
      "metadata": {
        "id": "Pv3msFecas6q"
      },
      "source": [
        "Algo importante de aclarar de aqui en más, es que al no haber mayor información acerca de la finalidad del modelo, no podemos saber si es mas importante tener un buen recall o una mejor precision. Además, por la decisión que se toma sobre el particionamiento del dataset, las clases quedan bastante balanceadas. En concreto, no hay una clase que sea, a priori, más importante de identificar o de no confundir, no hay tampoco una minoria de instancias con cierta clase que requiera de una especial atención.\n",
        "\n",
        "Por ende, tomamos como metrica comparativa para los distintos modelos el score de accuracy. Esto no significa que no demos importancias a otras métricas como las ya mencionadas o el AUC. También evaluamos al modelo con esas distintas ópticas. Sin embargo, es la accuracy la que utilizamos finalmente para comparar los modelos."
      ]
    },
    {
      "cell_type": "code",
      "metadata": {
        "id": "ZmxfAdfkXTCB",
        "colab": {
          "base_uri": "https://localhost:8080/",
          "height": 438
        },
        "outputId": "2a4d62f2-c16b-4b3b-b219-a0540252d905"
      },
      "source": [
        "wine_df['quality'].describe(),  wine_df['quality'].hist()"
      ],
      "execution_count": null,
      "outputs": [
        {
          "output_type": "execute_result",
          "data": {
            "text/plain": [
              "(count    1599.000000\n",
              " mean        5.636023\n",
              " std         0.807569\n",
              " min         3.000000\n",
              " 25%         5.000000\n",
              " 50%         6.000000\n",
              " 75%         6.000000\n",
              " max         8.000000\n",
              " Name: quality, dtype: float64,\n",
              " <matplotlib.axes._subplots.AxesSubplot at 0x7f39a4966c90>)"
            ]
          },
          "metadata": {},
          "execution_count": 25
        },
        {
          "output_type": "display_data",
          "data": {
            "image/png": "[encoded data removed]",
            "text/plain": [
              "<Figure size 432x288 with 1 Axes>"
            ]
          },
          "metadata": {
            "needs_background": "light"
          }
        }
      ]
    },
    {
      "cell_type": "code",
      "metadata": {
        "id": "z9UrICknOnli"
      },
      "source": [
        "def set_label(df, umbral, label_name, rank_name):\n",
        "\n",
        "  df[label_name] = [1 if q>=umbral else 0 for q in df[rank_name]]\n",
        "  return df"
      ],
      "execution_count": null,
      "outputs": []
    },
    {
      "cell_type": "markdown",
      "metadata": {
        "id": "bT_L2EOmZEJI"
      },
      "source": [
        "Se mira la distribución de 'quality' para poder tomar una decisión certera al momento de parcicionar los valores discretos en una variable binaria."
      ]
    },
    {
      "cell_type": "markdown",
      "metadata": {
        "id": "WL9T2CWBhJmd"
      },
      "source": [
        "### Categorización binaria de 'quality'"
      ]
    },
    {
      "cell_type": "code",
      "metadata": {
        "colab": {
          "base_uri": "https://localhost:8080/",
          "height": 441
        },
        "id": "kzvxe1YpPF6F",
        "outputId": "49ea50aa-efe3-42ed-9760-347c9da61847"
      },
      "source": [
        "wine_df = set_label(wine_df, 6, 'q_label', 'quality')\n",
        "wine_df"
      ],
      "execution_count": null,
      "outputs": [
        {
          "output_type": "execute_result",
          "data": {
            "text/html": [
              "<div>\n",
              "<style scoped>\n",
              "    .dataframe tbody tr th:only-of-type {\n",
              "        vertical-align: middle;\n",
              "    }\n",
              "\n",
              "    .dataframe tbody tr th {\n",
              "        vertical-align: top;\n",
              "    }\n",
              "\n",
              "    .dataframe thead th {\n",
              "        text-align: right;\n",
              "    }\n",
              "</style>\n",
              "<table border=\"1\" class=\"dataframe\">\n",
              "  <thead>\n",
              "    <tr style=\"text-align: right;\">\n",
              "      <th></th>\n",
              "      <th>fixed acidity</th>\n",
              "      <th>volatile acidity</th>\n",
              "      <th>citric acid</th>\n",
              "      <th>residual sugar</th>\n",
              "      <th>chlorides</th>\n",
              "      <th>free sulfur dioxide</th>\n",
              "      <th>total sulfur dioxide</th>\n",
              "      <th>density</th>\n",
              "      <th>pH</th>\n",
              "      <th>sulphates</th>\n",
              "      <th>alcohol</th>\n",
              "      <th>quality</th>\n",
              "      <th>q_label</th>\n",
              "    </tr>\n",
              "  </thead>\n",
              "  <tbody>\n",
              "    <tr>\n",
              "      <th>0</th>\n",
              "      <td>7.4</td>\n",
              "      <td>0.700</td>\n",
              "      <td>0.00</td>\n",
              "      <td>1.9</td>\n",
              "      <td>0.076</td>\n",
              "      <td>11.0</td>\n",
              "      <td>34.0</td>\n",
              "      <td>0.99780</td>\n",
              "      <td>3.51</td>\n",
              "      <td>0.56</td>\n",
              "      <td>9.4</td>\n",
              "      <td>5</td>\n",
              "      <td>0</td>\n",
              "    </tr>\n",
              "    <tr>\n",
              "      <th>1</th>\n",
              "      <td>7.8</td>\n",
              "      <td>0.880</td>\n",
              "      <td>0.00</td>\n",
              "      <td>2.6</td>\n",
              "      <td>0.098</td>\n",
              "      <td>25.0</td>\n",
              "      <td>67.0</td>\n",
              "      <td>0.99680</td>\n",
              "      <td>3.20</td>\n",
              "      <td>0.68</td>\n",
              "      <td>9.8</td>\n",
              "      <td>5</td>\n",
              "      <td>0</td>\n",
              "    </tr>\n",
              "    <tr>\n",
              "      <th>2</th>\n",
              "      <td>7.8</td>\n",
              "      <td>0.760</td>\n",
              "      <td>0.04</td>\n",
              "      <td>2.3</td>\n",
              "      <td>0.092</td>\n",
              "      <td>15.0</td>\n",
              "      <td>54.0</td>\n",
              "      <td>0.99700</td>\n",
              "      <td>3.26</td>\n",
              "      <td>0.65</td>\n",
              "      <td>9.8</td>\n",
              "      <td>5</td>\n",
              "      <td>0</td>\n",
              "    </tr>\n",
              "    <tr>\n",
              "      <th>3</th>\n",
              "      <td>11.2</td>\n",
              "      <td>0.280</td>\n",
              "      <td>0.56</td>\n",
              "      <td>1.9</td>\n",
              "      <td>0.075</td>\n",
              "      <td>17.0</td>\n",
              "      <td>60.0</td>\n",
              "      <td>0.99800</td>\n",
              "      <td>3.16</td>\n",
              "      <td>0.58</td>\n",
              "      <td>9.8</td>\n",
              "      <td>6</td>\n",
              "      <td>1</td>\n",
              "    </tr>\n",
              "    <tr>\n",
              "      <th>4</th>\n",
              "      <td>7.4</td>\n",
              "      <td>0.700</td>\n",
              "      <td>0.00</td>\n",
              "      <td>1.9</td>\n",
              "      <td>0.076</td>\n",
              "      <td>11.0</td>\n",
              "      <td>34.0</td>\n",
              "      <td>0.99780</td>\n",
              "      <td>3.51</td>\n",
              "      <td>0.56</td>\n",
              "      <td>9.4</td>\n",
              "      <td>5</td>\n",
              "      <td>0</td>\n",
              "    </tr>\n",
              "    <tr>\n",
              "      <th>...</th>\n",
              "      <td>...</td>\n",
              "      <td>...</td>\n",
              "      <td>...</td>\n",
              "      <td>...</td>\n",
              "      <td>...</td>\n",
              "      <td>...</td>\n",
              "      <td>...</td>\n",
              "      <td>...</td>\n",
              "      <td>...</td>\n",
              "      <td>...</td>\n",
              "      <td>...</td>\n",
              "      <td>...</td>\n",
              "      <td>...</td>\n",
              "    </tr>\n",
              "    <tr>\n",
              "      <th>1594</th>\n",
              "      <td>6.2</td>\n",
              "      <td>0.600</td>\n",
              "      <td>0.08</td>\n",
              "      <td>2.0</td>\n",
              "      <td>0.090</td>\n",
              "      <td>32.0</td>\n",
              "      <td>44.0</td>\n",
              "      <td>0.99490</td>\n",
              "      <td>3.45</td>\n",
              "      <td>0.58</td>\n",
              "      <td>10.5</td>\n",
              "      <td>5</td>\n",
              "      <td>0</td>\n",
              "    </tr>\n",
              "    <tr>\n",
              "      <th>1595</th>\n",
              "      <td>5.9</td>\n",
              "      <td>0.550</td>\n",
              "      <td>0.10</td>\n",
              "      <td>2.2</td>\n",
              "      <td>0.062</td>\n",
              "      <td>39.0</td>\n",
              "      <td>51.0</td>\n",
              "      <td>0.99512</td>\n",
              "      <td>3.52</td>\n",
              "      <td>0.76</td>\n",
              "      <td>11.2</td>\n",
              "      <td>6</td>\n",
              "      <td>1</td>\n",
              "    </tr>\n",
              "    <tr>\n",
              "      <th>1596</th>\n",
              "      <td>6.3</td>\n",
              "      <td>0.510</td>\n",
              "      <td>0.13</td>\n",
              "      <td>2.3</td>\n",
              "      <td>0.076</td>\n",
              "      <td>29.0</td>\n",
              "      <td>40.0</td>\n",
              "      <td>0.99574</td>\n",
              "      <td>3.42</td>\n",
              "      <td>0.75</td>\n",
              "      <td>11.0</td>\n",
              "      <td>6</td>\n",
              "      <td>1</td>\n",
              "    </tr>\n",
              "    <tr>\n",
              "      <th>1597</th>\n",
              "      <td>5.9</td>\n",
              "      <td>0.645</td>\n",
              "      <td>0.12</td>\n",
              "      <td>2.0</td>\n",
              "      <td>0.075</td>\n",
              "      <td>32.0</td>\n",
              "      <td>44.0</td>\n",
              "      <td>0.99547</td>\n",
              "      <td>3.57</td>\n",
              "      <td>0.71</td>\n",
              "      <td>10.2</td>\n",
              "      <td>5</td>\n",
              "      <td>0</td>\n",
              "    </tr>\n",
              "    <tr>\n",
              "      <th>1598</th>\n",
              "      <td>6.0</td>\n",
              "      <td>0.310</td>\n",
              "      <td>0.47</td>\n",
              "      <td>3.6</td>\n",
              "      <td>0.067</td>\n",
              "      <td>18.0</td>\n",
              "      <td>42.0</td>\n",
              "      <td>0.99549</td>\n",
              "      <td>3.39</td>\n",
              "      <td>0.66</td>\n",
              "      <td>11.0</td>\n",
              "      <td>6</td>\n",
              "      <td>1</td>\n",
              "    </tr>\n",
              "  </tbody>\n",
              "</table>\n",
              "<p>1599 rows × 13 columns</p>\n",
              "</div>"
            ],
            "text/plain": [
              "      fixed acidity  volatile acidity  citric acid  ...  alcohol  quality  q_label\n",
              "0               7.4             0.700         0.00  ...      9.4        5        0\n",
              "1               7.8             0.880         0.00  ...      9.8        5        0\n",
              "2               7.8             0.760         0.04  ...      9.8        5        0\n",
              "3              11.2             0.280         0.56  ...      9.8        6        1\n",
              "4               7.4             0.700         0.00  ...      9.4        5        0\n",
              "...             ...               ...          ...  ...      ...      ...      ...\n",
              "1594            6.2             0.600         0.08  ...     10.5        5        0\n",
              "1595            5.9             0.550         0.10  ...     11.2        6        1\n",
              "1596            6.3             0.510         0.13  ...     11.0        6        1\n",
              "1597            5.9             0.645         0.12  ...     10.2        5        0\n",
              "1598            6.0             0.310         0.47  ...     11.0        6        1\n",
              "\n",
              "[1599 rows x 13 columns]"
            ]
          },
          "metadata": {},
          "execution_count": 27
        }
      ]
    },
    {
      "cell_type": "markdown",
      "metadata": {
        "id": "UP5-e8kZe8mF"
      },
      "source": [
        "Se decide tomar un umbral de 6 por diferentes motivos: \n",
        "\n",
        "1. Primero, visualmente parece ser un punto de quiebre en la distribución de la variable 'quality'. \n",
        "\n",
        "2. En segundo lugar, particiona de forma balanceada el dataset. Esto no solo ayudara luego a los modelos, sino que también parece ciertamente logico que aquellos vinos que esten el el percentil 50 superior sean calificados como buenos y los del inferior como malos, cuando solo tenemos dos etiquetas posibles.\n",
        "\n",
        "Es evidente que para hacer una partición que se adapte mejor a la realidad deberíamos tener cierto conocimiento del sector o por lo menos saber que porcentaje de los vinos se califica como 'buenos' y cuanto como 'malo'."
      ]
    },
    {
      "cell_type": "code",
      "metadata": {
        "id": "5ddIX85EPlUJ"
      },
      "source": [
        "from sklearn.metrics import accuracy_score, classification_report, confusion_matrix, roc_auc_score, roc_curve, auc\n",
        "\n",
        "def get_scores(Y_pred, probs, Y_test, plot=True):\n",
        "\n",
        "  # Calcular TP, TN, FP, FN\n",
        "  # Armar matriz de cofusion\n",
        "  # Recall, Precision, Accuracy, F1\n",
        "  # AUC\n",
        "  # probas = model.predict_proba(X_test)\n",
        "  fpr, tpr, thresholds = roc_curve(Y_test,probs[:,1])\n",
        "  if plot:\n",
        "    plt.plot([0,1],[0,1],'k--') #se grafica la linea diagonal\n",
        "    plt.plot(fpr, tpr, label='NB') #se grafica la curva ROC\n",
        "    plt.xlabel('fpr')\n",
        "    plt.ylabel('tpr')\n",
        "    plt.show()\n",
        "    print(\"AUC: {}\" .format(auc(fpr, tpr)))\n",
        "\n",
        "  accuracy = accuracy_score(Y_test, Y_pred)\n",
        "    \n",
        "  \n",
        "  mat = confusion_matrix(Y_test, Y_pred)\n",
        "  if plot:\n",
        "    print (classification_report(Y_test,Y_pred))\n",
        "    sns.heatmap(mat.T, square=True, annot=True, fmt='d', cbar=False)\n",
        "    plt.xlabel('Clase de test')\n",
        "    plt.ylabel('Clase de la predicción');\n",
        "\n",
        "  return accuracy"
      ],
      "execution_count": null,
      "outputs": []
    },
    {
      "cell_type": "code",
      "metadata": {
        "id": "hpDEocLAWYNy"
      },
      "source": [
        "sample = 0.8\n",
        "df_train, df_test = train_test_split(wine_df, train_size=sample)\n",
        "\n",
        "X_train = df_train[features]\n",
        "X_test = df_test[features]\n",
        "Y_train = df_train['q_label']\n",
        "Y_test = df_test['q_label']"
      ],
      "execution_count": null,
      "outputs": []
    },
    {
      "cell_type": "code",
      "metadata": {
        "colab": {
          "base_uri": "https://localhost:8080/",
          "height": 394
        },
        "id": "V_a2gQtAadUh",
        "outputId": "87bf716a-06b2-4e41-9374-32c7d243ddbf"
      },
      "source": [
        "from sklearn.naive_bayes import GaussianNB\n",
        "all_gdb = []\n",
        "for f in range(1,len(features)+1):\n",
        "  model = GaussianNB()\n",
        "\n",
        "  pipe = Pipeline([('fselector', SelectKBest(chi2, k=f)), ('gnb', model)])\n",
        "  pipe.fit(X_train, Y_train)\n",
        "  new_Y_pewd = pipe.predict_proba(X_test)\n",
        "\n",
        "  # new_Y_pewd = model.predict_proba(X_test)\n",
        "  umbral_prob = 0.5\n",
        "  Y_pred = [0 if p>umbral_prob else 1 for p in new_Y_pewd[:,0]]\n",
        "  all_gdb += [(f,get_scores(Y_pred, new_Y_pewd, Y_test, plot=False))]\n",
        "\n",
        "all_gdb = sorted(all_gdb, key = lambda x : x[1], reverse=True)\n",
        "all_gdb = pd.DataFrame(all_gdb, columns=['n_feature', 'acc'])\n",
        "all_gdb"
      ],
      "execution_count": null,
      "outputs": [
        {
          "output_type": "execute_result",
          "data": {
            "text/html": [
              "<div>\n",
              "<style scoped>\n",
              "    .dataframe tbody tr th:only-of-type {\n",
              "        vertical-align: middle;\n",
              "    }\n",
              "\n",
              "    .dataframe tbody tr th {\n",
              "        vertical-align: top;\n",
              "    }\n",
              "\n",
              "    .dataframe thead th {\n",
              "        text-align: right;\n",
              "    }\n",
              "</style>\n",
              "<table border=\"1\" class=\"dataframe\">\n",
              "  <thead>\n",
              "    <tr style=\"text-align: right;\">\n",
              "      <th></th>\n",
              "      <th>n_feature</th>\n",
              "      <th>acc</th>\n",
              "    </tr>\n",
              "  </thead>\n",
              "  <tbody>\n",
              "    <tr>\n",
              "      <th>0</th>\n",
              "      <td>7</td>\n",
              "      <td>0.715625</td>\n",
              "    </tr>\n",
              "    <tr>\n",
              "      <th>1</th>\n",
              "      <td>8</td>\n",
              "      <td>0.709375</td>\n",
              "    </tr>\n",
              "    <tr>\n",
              "      <th>2</th>\n",
              "      <td>9</td>\n",
              "      <td>0.709375</td>\n",
              "    </tr>\n",
              "    <tr>\n",
              "      <th>3</th>\n",
              "      <td>11</td>\n",
              "      <td>0.709375</td>\n",
              "    </tr>\n",
              "    <tr>\n",
              "      <th>4</th>\n",
              "      <td>4</td>\n",
              "      <td>0.706250</td>\n",
              "    </tr>\n",
              "    <tr>\n",
              "      <th>5</th>\n",
              "      <td>10</td>\n",
              "      <td>0.706250</td>\n",
              "    </tr>\n",
              "    <tr>\n",
              "      <th>6</th>\n",
              "      <td>5</td>\n",
              "      <td>0.703125</td>\n",
              "    </tr>\n",
              "    <tr>\n",
              "      <th>7</th>\n",
              "      <td>6</td>\n",
              "      <td>0.693750</td>\n",
              "    </tr>\n",
              "    <tr>\n",
              "      <th>8</th>\n",
              "      <td>3</td>\n",
              "      <td>0.628125</td>\n",
              "    </tr>\n",
              "    <tr>\n",
              "      <th>9</th>\n",
              "      <td>2</td>\n",
              "      <td>0.587500</td>\n",
              "    </tr>\n",
              "    <tr>\n",
              "      <th>10</th>\n",
              "      <td>1</td>\n",
              "      <td>0.584375</td>\n",
              "    </tr>\n",
              "  </tbody>\n",
              "</table>\n",
              "</div>"
            ],
            "text/plain": [
              "    n_feature       acc\n",
              "0           7  0.715625\n",
              "1           8  0.709375\n",
              "2           9  0.709375\n",
              "3          11  0.709375\n",
              "4           4  0.706250\n",
              "5          10  0.706250\n",
              "6           5  0.703125\n",
              "7           6  0.693750\n",
              "8           3  0.628125\n",
              "9           2  0.587500\n",
              "10          1  0.584375"
            ]
          },
          "metadata": {},
          "execution_count": 30
        }
      ]
    },
    {
      "cell_type": "markdown",
      "metadata": {
        "id": "kq8G56i6aZ4L"
      },
      "source": [
        "Se ejecuta el modelo iterativamente eligiendo las k variables mas trascendentes en cada iteración. Estas son seleccionadas con la función SelectKBest explicada anteriormente, con chi2 como función de score.\n",
        "\n",
        "De esta forma, podemos ver cual es el valor de K que mejora el modelo. Con ese K entrenamos el modelo nuevamente y obtenemos todas sus métricas."
      ]
    },
    {
      "cell_type": "markdown",
      "metadata": {
        "id": "kJvp-WK_hQ12"
      },
      "source": [
        "### Mejor modelo de Bayes"
      ]
    },
    {
      "cell_type": "code",
      "metadata": {
        "colab": {
          "base_uri": "https://localhost:8080/",
          "height": 731
        },
        "id": "bcDhnS-sRCmb",
        "outputId": "af7c21ba-f679-4fe4-8670-54a926d382ff"
      },
      "source": [
        "model = GaussianNB()\n",
        "# model.fit(X_train, Y_train);\n",
        "\n",
        "pipe = Pipeline([('fselector', SelectKBest(chi2, k=all_gdb['n_feature'][0])), ('gnb', model)])\n",
        "pipe.fit(X_train, Y_train)\n",
        "new_Y_pewd = pipe.predict_proba(X_test)\n",
        "\n",
        "# new_Y_pewd = model.predict_proba(X_test)\n",
        "umbral_prob = 0.5\n",
        "Y_pred = [0 if p>umbral_prob else 1 for p in new_Y_pewd[:,0]]\n",
        "get_scores(Y_pred, new_Y_pewd, Y_test)"
      ],
      "execution_count": null,
      "outputs": [
        {
          "output_type": "display_data",
          "data": {
            "image/png": "[encoded data removed]",
            "text/plain": [
              "<Figure size 432x288 with 1 Axes>"
            ]
          },
          "metadata": {
            "needs_background": "light"
          }
        },
        {
          "output_type": "stream",
          "name": "stdout",
          "text": [
            "AUC: 0.7801960784313726\n",
            "              precision    recall  f1-score   support\n",
            "\n",
            "           0       0.66      0.79      0.72       150\n",
            "           1       0.78      0.65      0.71       170\n",
            "\n",
            "    accuracy                           0.72       320\n",
            "   macro avg       0.72      0.72      0.72       320\n",
            "weighted avg       0.73      0.72      0.71       320\n",
            "\n"
          ]
        },
        {
          "output_type": "execute_result",
          "data": {
            "text/plain": [
              "0.715625"
            ]
          },
          "metadata": {},
          "execution_count": 31
        },
        {
          "output_type": "display_data",
          "data": {
            "image/png": "[encoded data removed]",
            "text/plain": [
              "<Figure size 432x288 with 1 Axes>"
            ]
          },
          "metadata": {
            "needs_background": "light"
          }
        }
      ]
    },
    {
      "cell_type": "code",
      "metadata": {
        "colab": {
          "base_uri": "https://localhost:8080/"
        },
        "id": "2ILzE7HnTMVC",
        "outputId": "c7fbe4d8-e226-461a-b39f-b32ab958e59b"
      },
      "source": [
        "from sklearn.linear_model import LogisticRegression\n",
        "\n",
        "model = LogisticRegression()\n",
        "# model.fit(X_train, Y_train);\n",
        "\n",
        "pipe = Pipeline([('fselector', SelectKBest(chi2, k=10)), ('lr', model)])\n",
        "pipe.fit(X_train, Y_train)\n",
        "new_Y_pewd = pipe.predict_proba(X_test)\n",
        "\n",
        "# new_Y_pewd = model.predict_proba(X_test)\n",
        "umbral_prob = 0.5\n",
        "Y_pred = [0 if p>umbral_prob else 1 for p in new_Y_pewd[:,0]]\n",
        "'Accuracy', get_scores(Y_pred, new_Y_pewd, Y_test,False)"
      ],
      "execution_count": null,
      "outputs": [
        {
          "output_type": "stream",
          "name": "stderr",
          "text": [
            "/usr/local/lib/python3.7/dist-packages/sklearn/linear_model/_logistic.py:940: ConvergenceWarning: lbfgs failed to converge (status=1):\n",
            "STOP: TOTAL NO. of ITERATIONS REACHED LIMIT.\n",
            "\n",
            "Increase the number of iterations (max_iter) or scale the data as shown in:\n",
            "    https://scikit-learn.org/stable/modules/preprocessing.html\n",
            "Please also refer to the documentation for alternative solver options:\n",
            "    https://scikit-learn.org/stable/modules/linear_model.html#logistic-regression\n",
            "  extra_warning_msg=_LOGISTIC_SOLVER_CONVERGENCE_MSG)\n"
          ]
        },
        {
          "output_type": "execute_result",
          "data": {
            "text/plain": [
              "('Accuracy', 0.715625)"
            ]
          },
          "metadata": {},
          "execution_count": 32
        }
      ]
    },
    {
      "cell_type": "markdown",
      "metadata": {
        "id": "KrCDpV8ubT2k"
      },
      "source": [
        "En el caso de la regresión logística, se realiza un primer modelo sin tener en cuenta realmente los hiperparámetros.\n",
        "\n",
        "Este servirá como punto de partida y referencia inicial para saber que tanto mejoró el modelo al configurar los parametros de ejecución."
      ]
    },
    {
      "cell_type": "code",
      "metadata": {
        "colab": {
          "base_uri": "https://localhost:8080/",
          "height": 394
        },
        "id": "_pE9EjLKdDUp",
        "outputId": "904121f3-fb3a-4196-c180-ac9c60eaf2f5"
      },
      "source": [
        "all_lr = []\n",
        "for f in range(1,len(features)+1):\n",
        "  model = LogisticRegression(max_iter=1000, solver='lbfgs', class_weight='balanced')\n",
        "  # model.fit(X_train, Y_train);\n",
        "\n",
        "  pipe = Pipeline([('fselector', SelectKBest(chi2, k=f)), ('lr', model)])\n",
        "  pipe.fit(X_train, Y_train)\n",
        "  new_Y_pewd = pipe.predict_proba(X_test)\n",
        "\n",
        "  # new_Y_pewd = model.predict_proba(X_test)\n",
        "  umbral_prob = 0.5\n",
        "  Y_pred = [0 if p>umbral_prob else 1 for p in new_Y_pewd[:,0]]\n",
        "  all_lr += [(f,get_scores(Y_pred, new_Y_pewd, Y_test, plot=False))]\n",
        "\n",
        "all_lr = sorted(all_lr, key = lambda x : x[1], reverse=True)\n",
        "all_lr = pd.DataFrame(all_lr, columns=['n_feature', 'acc'])\n",
        "all_lr"
      ],
      "execution_count": null,
      "outputs": [
        {
          "output_type": "execute_result",
          "data": {
            "text/html": [
              "<div>\n",
              "<style scoped>\n",
              "    .dataframe tbody tr th:only-of-type {\n",
              "        vertical-align: middle;\n",
              "    }\n",
              "\n",
              "    .dataframe tbody tr th {\n",
              "        vertical-align: top;\n",
              "    }\n",
              "\n",
              "    .dataframe thead th {\n",
              "        text-align: right;\n",
              "    }\n",
              "</style>\n",
              "<table border=\"1\" class=\"dataframe\">\n",
              "  <thead>\n",
              "    <tr style=\"text-align: right;\">\n",
              "      <th></th>\n",
              "      <th>n_feature</th>\n",
              "      <th>acc</th>\n",
              "    </tr>\n",
              "  </thead>\n",
              "  <tbody>\n",
              "    <tr>\n",
              "      <th>0</th>\n",
              "      <td>10</td>\n",
              "      <td>0.703125</td>\n",
              "    </tr>\n",
              "    <tr>\n",
              "      <th>1</th>\n",
              "      <td>11</td>\n",
              "      <td>0.703125</td>\n",
              "    </tr>\n",
              "    <tr>\n",
              "      <th>2</th>\n",
              "      <td>6</td>\n",
              "      <td>0.700000</td>\n",
              "    </tr>\n",
              "    <tr>\n",
              "      <th>3</th>\n",
              "      <td>9</td>\n",
              "      <td>0.700000</td>\n",
              "    </tr>\n",
              "    <tr>\n",
              "      <th>4</th>\n",
              "      <td>5</td>\n",
              "      <td>0.696875</td>\n",
              "    </tr>\n",
              "    <tr>\n",
              "      <th>5</th>\n",
              "      <td>8</td>\n",
              "      <td>0.696875</td>\n",
              "    </tr>\n",
              "    <tr>\n",
              "      <th>6</th>\n",
              "      <td>4</td>\n",
              "      <td>0.693750</td>\n",
              "    </tr>\n",
              "    <tr>\n",
              "      <th>7</th>\n",
              "      <td>7</td>\n",
              "      <td>0.693750</td>\n",
              "    </tr>\n",
              "    <tr>\n",
              "      <th>8</th>\n",
              "      <td>3</td>\n",
              "      <td>0.671875</td>\n",
              "    </tr>\n",
              "    <tr>\n",
              "      <th>9</th>\n",
              "      <td>2</td>\n",
              "      <td>0.590625</td>\n",
              "    </tr>\n",
              "    <tr>\n",
              "      <th>10</th>\n",
              "      <td>1</td>\n",
              "      <td>0.587500</td>\n",
              "    </tr>\n",
              "  </tbody>\n",
              "</table>\n",
              "</div>"
            ],
            "text/plain": [
              "    n_feature       acc\n",
              "0          10  0.703125\n",
              "1          11  0.703125\n",
              "2           6  0.700000\n",
              "3           9  0.700000\n",
              "4           5  0.696875\n",
              "5           8  0.696875\n",
              "6           4  0.693750\n",
              "7           7  0.693750\n",
              "8           3  0.671875\n",
              "9           2  0.590625\n",
              "10          1  0.587500"
            ]
          },
          "metadata": {},
          "execution_count": 33
        }
      ]
    },
    {
      "cell_type": "markdown",
      "metadata": {
        "id": "JsbKvLu4bs-Z"
      },
      "source": [
        "Luego, se realiza un estudio mas detallado de los hiperparametros. \n",
        "\n",
        "* Para elegir los features a utilizar en el modelo, se utiliza el mismo método que en GaussianNB y se realiza la misma iteración para encontrar K.\n",
        "\n",
        "* Se selecciona el optimizador 'lbfgs' por ser uno de los que tiene mejor rendimiento en general dada las opciones que ofrece sklearn. Ademas, conociendo la naturaleza de 'lbfgs', se setea una cantidad máxima de iteraciones de 1000, lo que suele ser suficiente para que el método converga en este estilo de problemas.\n",
        "\n",
        "* Finalmente, se selecciona un peso de clases balanceado. Esto balancea automáticamente el peso de las clases de forma inversamente proporcional a la frecuencia de cada una en el dataset de entrenamiento."
      ]
    },
    {
      "cell_type": "markdown",
      "metadata": {
        "id": "dSTZ5N6ZhWYc"
      },
      "source": [
        "### Mejor modelo de regresión logística"
      ]
    },
    {
      "cell_type": "code",
      "metadata": {
        "colab": {
          "base_uri": "https://localhost:8080/",
          "height": 731
        },
        "id": "QxVybLAlXjk9",
        "outputId": "2d2ce640-cc94-4d3f-834f-8fab0d0f6a4a"
      },
      "source": [
        "model = LogisticRegression(max_iter=1000, solver='lbfgs', class_weight='balanced')\n",
        "# model.fit(X_train, Y_train);\n",
        "\n",
        "pipe = Pipeline([('fselector', SelectKBest(chi2, k=all_lr['n_feature'][0])), ('lr', model)])\n",
        "pipe.fit(X_train, Y_train)\n",
        "new_Y_pewd = pipe.predict_proba(X_test)\n",
        "\n",
        "# new_Y_pewd = model.predict_proba(X_test)\n",
        "umbral_prob = 0.5\n",
        "Y_pred = [0 if p>umbral_prob else 1 for p in new_Y_pewd[:,0]]\n",
        "get_scores(Y_pred, new_Y_pewd, Y_test)"
      ],
      "execution_count": null,
      "outputs": [
        {
          "output_type": "display_data",
          "data": {
            "image/png": "[encoded data removed]",
            "text/plain": [
              "<Figure size 432x288 with 1 Axes>"
            ]
          },
          "metadata": {
            "needs_background": "light"
          }
        },
        {
          "output_type": "stream",
          "name": "stdout",
          "text": [
            "AUC: 0.7912941176470588\n",
            "              precision    recall  f1-score   support\n",
            "\n",
            "           0       0.65      0.78      0.71       150\n",
            "           1       0.77      0.64      0.69       170\n",
            "\n",
            "    accuracy                           0.70       320\n",
            "   macro avg       0.71      0.71      0.70       320\n",
            "weighted avg       0.71      0.70      0.70       320\n",
            "\n"
          ]
        },
        {
          "output_type": "execute_result",
          "data": {
            "text/plain": [
              "0.703125"
            ]
          },
          "metadata": {},
          "execution_count": 34
        },
        {
          "output_type": "display_data",
          "data": {
            "image/png": "[encoded data removed]",
            "text/plain": [
              "<Figure size 432x288 with 1 Axes>"
            ]
          },
          "metadata": {
            "needs_background": "light"
          }
        }
      ]
    },
    {
      "cell_type": "markdown",
      "metadata": {
        "id": "VzflA_AhdUBO"
      },
      "source": [
        "### Importancia de los features"
      ]
    },
    {
      "cell_type": "markdown",
      "metadata": {
        "id": "JLdU0sfCdSBU"
      },
      "source": [
        "Para validar la importancia de los features en cada uno de los modelos, partimos en ambos casos del mejor modelo hayado. Luego, ejecutamos el modelo quitando de a uno a la vez cada feature. De esta forma, podemos obtener la variación del accuracy al eliminar cada feature. Luego, aquellos modelos con mejor accuracy surgen al eliminar los features que resultan menos significativos o que aportan menor cantidad de información al modelo."
      ]
    },
    {
      "cell_type": "code",
      "metadata": {
        "colab": {
          "base_uri": "https://localhost:8080/",
          "height": 394
        },
        "id": "9TStrOQPVx1G",
        "outputId": "5a977b33-0e31-438a-eb27-dd608359d934"
      },
      "source": [
        "model = GaussianNB()\n",
        "pipe = Pipeline([('gnb', model)])\n",
        "# model.fit(X_train, Y_train);\n",
        "f_importance = []\n",
        "for i in range(len(features)):\n",
        "  n_f = list(X_train.columns)\n",
        "  n_f.pop(i)\n",
        "  X_train_n = X_train[n_f]\n",
        "  X_test_n = X_test[n_f]\n",
        "  \n",
        "  pipe.fit(X_train_n, Y_train)\n",
        "  new_Y_pewd = pipe.predict_proba(X_test_n)\n",
        "\n",
        "  # new_Y_pewd = model.predict_proba(X_test)\n",
        "  umbral_prob = 0.5\n",
        "  Y_pred = [0 if p>umbral_prob else 1 for p in new_Y_pewd[:,0]]\n",
        "  accuracy = accuracy_score(Y_test, Y_pred)\n",
        "\n",
        "  f_importance += [(features[i], accuracy)]\n",
        "\n",
        "pd.DataFrame(sorted(f_importance, key=lambda x:x[1], reverse=True), columns=['feature_extracted', 'acc'])"
      ],
      "execution_count": null,
      "outputs": [
        {
          "output_type": "execute_result",
          "data": {
            "text/html": [
              "<div>\n",
              "<style scoped>\n",
              "    .dataframe tbody tr th:only-of-type {\n",
              "        vertical-align: middle;\n",
              "    }\n",
              "\n",
              "    .dataframe tbody tr th {\n",
              "        vertical-align: top;\n",
              "    }\n",
              "\n",
              "    .dataframe thead th {\n",
              "        text-align: right;\n",
              "    }\n",
              "</style>\n",
              "<table border=\"1\" class=\"dataframe\">\n",
              "  <thead>\n",
              "    <tr style=\"text-align: right;\">\n",
              "      <th></th>\n",
              "      <th>feature_extracted</th>\n",
              "      <th>acc</th>\n",
              "    </tr>\n",
              "  </thead>\n",
              "  <tbody>\n",
              "    <tr>\n",
              "      <th>0</th>\n",
              "      <td>citric acid</td>\n",
              "      <td>0.734375</td>\n",
              "    </tr>\n",
              "    <tr>\n",
              "      <th>1</th>\n",
              "      <td>fixed acidity</td>\n",
              "      <td>0.731250</td>\n",
              "    </tr>\n",
              "    <tr>\n",
              "      <th>2</th>\n",
              "      <td>total sulfur dioxide</td>\n",
              "      <td>0.718750</td>\n",
              "    </tr>\n",
              "    <tr>\n",
              "      <th>3</th>\n",
              "      <td>free sulfur dioxide</td>\n",
              "      <td>0.715625</td>\n",
              "    </tr>\n",
              "    <tr>\n",
              "      <th>4</th>\n",
              "      <td>residual sugar</td>\n",
              "      <td>0.712500</td>\n",
              "    </tr>\n",
              "    <tr>\n",
              "      <th>5</th>\n",
              "      <td>pH</td>\n",
              "      <td>0.709375</td>\n",
              "    </tr>\n",
              "    <tr>\n",
              "      <th>6</th>\n",
              "      <td>density</td>\n",
              "      <td>0.706250</td>\n",
              "    </tr>\n",
              "    <tr>\n",
              "      <th>7</th>\n",
              "      <td>sulphates</td>\n",
              "      <td>0.706250</td>\n",
              "    </tr>\n",
              "    <tr>\n",
              "      <th>8</th>\n",
              "      <td>chlorides</td>\n",
              "      <td>0.703125</td>\n",
              "    </tr>\n",
              "    <tr>\n",
              "      <th>9</th>\n",
              "      <td>volatile acidity</td>\n",
              "      <td>0.687500</td>\n",
              "    </tr>\n",
              "    <tr>\n",
              "      <th>10</th>\n",
              "      <td>alcohol</td>\n",
              "      <td>0.675000</td>\n",
              "    </tr>\n",
              "  </tbody>\n",
              "</table>\n",
              "</div>"
            ],
            "text/plain": [
              "       feature_extracted       acc\n",
              "0            citric acid  0.734375\n",
              "1          fixed acidity  0.731250\n",
              "2   total sulfur dioxide  0.718750\n",
              "3    free sulfur dioxide  0.715625\n",
              "4         residual sugar  0.712500\n",
              "5                     pH  0.709375\n",
              "6                density  0.706250\n",
              "7              sulphates  0.706250\n",
              "8              chlorides  0.703125\n",
              "9       volatile acidity  0.687500\n",
              "10               alcohol  0.675000"
            ]
          },
          "metadata": {},
          "execution_count": 35
        }
      ]
    },
    {
      "cell_type": "code",
      "metadata": {
        "colab": {
          "base_uri": "https://localhost:8080/",
          "height": 394
        },
        "id": "id0BMwP0Yfh0",
        "outputId": "bc4b172c-773e-48df-8a63-f36b4c2d4c85"
      },
      "source": [
        "model = LogisticRegression(max_iter=1000, solver='lbfgs', class_weight='balanced')\n",
        "pipe = Pipeline([('lr', model)])\n",
        "# model.fit(X_train, Y_train);\n",
        "f_importance = []\n",
        "for i in range(len(features)):\n",
        "  n_f = list(X_train.columns)\n",
        "  n_f.pop(i)\n",
        "  X_train_n = X_train[n_f]\n",
        "  X_test_n = X_test[n_f]\n",
        "  \n",
        "  pipe.fit(X_train_n, Y_train)\n",
        "  new_Y_pewd = pipe.predict_proba(X_test_n)\n",
        "\n",
        "  # new_Y_pewd = model.predict_proba(X_test)\n",
        "  umbral_prob = 0.5\n",
        "  Y_pred = [0 if p>umbral_prob else 1 for p in new_Y_pewd[:,0]]\n",
        "  accuracy = accuracy_score(Y_test, Y_pred)\n",
        "\n",
        "  f_importance += [(features[i], accuracy)]\n",
        "\n",
        "pd.DataFrame(sorted(f_importance, key=lambda x:x[1], reverse=True), columns=['feature_extracted', 'acc'])"
      ],
      "execution_count": null,
      "outputs": [
        {
          "output_type": "execute_result",
          "data": {
            "text/html": [
              "<div>\n",
              "<style scoped>\n",
              "    .dataframe tbody tr th:only-of-type {\n",
              "        vertical-align: middle;\n",
              "    }\n",
              "\n",
              "    .dataframe tbody tr th {\n",
              "        vertical-align: top;\n",
              "    }\n",
              "\n",
              "    .dataframe thead th {\n",
              "        text-align: right;\n",
              "    }\n",
              "</style>\n",
              "<table border=\"1\" class=\"dataframe\">\n",
              "  <thead>\n",
              "    <tr style=\"text-align: right;\">\n",
              "      <th></th>\n",
              "      <th>feature_extracted</th>\n",
              "      <th>acc</th>\n",
              "    </tr>\n",
              "  </thead>\n",
              "  <tbody>\n",
              "    <tr>\n",
              "      <th>0</th>\n",
              "      <td>alcohol</td>\n",
              "      <td>0.718750</td>\n",
              "    </tr>\n",
              "    <tr>\n",
              "      <th>1</th>\n",
              "      <td>fixed acidity</td>\n",
              "      <td>0.709375</td>\n",
              "    </tr>\n",
              "    <tr>\n",
              "      <th>2</th>\n",
              "      <td>citric acid</td>\n",
              "      <td>0.703125</td>\n",
              "    </tr>\n",
              "    <tr>\n",
              "      <th>3</th>\n",
              "      <td>density</td>\n",
              "      <td>0.703125</td>\n",
              "    </tr>\n",
              "    <tr>\n",
              "      <th>4</th>\n",
              "      <td>residual sugar</td>\n",
              "      <td>0.700000</td>\n",
              "    </tr>\n",
              "    <tr>\n",
              "      <th>5</th>\n",
              "      <td>free sulfur dioxide</td>\n",
              "      <td>0.700000</td>\n",
              "    </tr>\n",
              "    <tr>\n",
              "      <th>6</th>\n",
              "      <td>pH</td>\n",
              "      <td>0.700000</td>\n",
              "    </tr>\n",
              "    <tr>\n",
              "      <th>7</th>\n",
              "      <td>chlorides</td>\n",
              "      <td>0.696875</td>\n",
              "    </tr>\n",
              "    <tr>\n",
              "      <th>8</th>\n",
              "      <td>sulphates</td>\n",
              "      <td>0.696875</td>\n",
              "    </tr>\n",
              "    <tr>\n",
              "      <th>9</th>\n",
              "      <td>total sulfur dioxide</td>\n",
              "      <td>0.681250</td>\n",
              "    </tr>\n",
              "    <tr>\n",
              "      <th>10</th>\n",
              "      <td>volatile acidity</td>\n",
              "      <td>0.678125</td>\n",
              "    </tr>\n",
              "  </tbody>\n",
              "</table>\n",
              "</div>"
            ],
            "text/plain": [
              "       feature_extracted       acc\n",
              "0                alcohol  0.718750\n",
              "1          fixed acidity  0.709375\n",
              "2            citric acid  0.703125\n",
              "3                density  0.703125\n",
              "4         residual sugar  0.700000\n",
              "5    free sulfur dioxide  0.700000\n",
              "6                     pH  0.700000\n",
              "7              chlorides  0.696875\n",
              "8              sulphates  0.696875\n",
              "9   total sulfur dioxide  0.681250\n",
              "10      volatile acidity  0.678125"
            ]
          },
          "metadata": {},
          "execution_count": 36
        }
      ]
    },
    {
      "cell_type": "markdown",
      "metadata": {
        "id": "1U6NuhRxcWok"
      },
      "source": [
        "# PARTE 4\n",
        "Explique las bases teóricas del algoritmo k-NN (k-nearest neighbors) y aplíquelo al dataset. Compare con los resultados obtenidos en la parte 3.\n",
        "\n"
      ]
    },
    {
      "cell_type": "markdown",
      "metadata": {
        "id": "OLPwnFGkchOd"
      },
      "source": [
        "## Bases teóricas\n",
        "El algoritmo de k-nearest neighbors (KNN) es un algoritmo de aprendizaje automático supervisado simple que se puede utilizar para resolver problemas de clasificación y regresión. Es fácil de implementar y comprender, pero tiene el principal inconveniente de que se ralentiza significativamente a medida que aumenta el tamaño de los datos en uso. \n",
        "\n",
        "KNN funciona encontrando las distancias entre una consulta y todas las instancias en los datos de entrenamient, seleccionando las K instancias más cercanos a la consulta. Luego vota por la etiqueta más frecuente (en el caso de clasificación) o promedia las etiquetas (en el caso de la regresión). \n",
        "En nuestro caso, ademas, se propone seleccionar los features de las instancias que aporten mayor cantidad de informacion para la prediccion de la clase 'quality'.\n",
        "\n",
        "Por último, determinar el valor K puede ser una tarea comleja. A mayor K, se esperaría poder tener mejores resultados. Pero un K demasiado grande, puede ser contraproducente para el modelo, ya que se considerarían como similares demasiadas instancias."
      ]
    },
    {
      "cell_type": "code",
      "metadata": {
        "id": "cvyje4VpcwQ9"
      },
      "source": [
        "from sklearn.neighbors import KNeighborsClassifier"
      ],
      "execution_count": null,
      "outputs": []
    },
    {
      "cell_type": "code",
      "metadata": {
        "colab": {
          "base_uri": "https://localhost:8080/",
          "height": 423
        },
        "id": "DV96D56rSxa0",
        "outputId": "b6420d73-2c1f-4d3f-9d3e-10cd908d0569"
      },
      "source": [
        "all_results = []\n",
        "for f in range(1,len(features)):\n",
        "  for K in range(5,120,5):  \n",
        "    model = KNeighborsClassifier (n_neighbors=K)\n",
        "\n",
        "    pipe = Pipeline([('fselector', SelectKBest(chi2, k=f)), ('knn', model)])\n",
        "    pipe.fit(X_train, Y_train)\n",
        "    new_Y_pewd = pipe.predict_proba(X_test)\n",
        "\n",
        "    umbral_prob = 0.5\n",
        "    Y_pred = [0 if p>umbral_prob else 1 for p in new_Y_pewd[:,0]]\n",
        "    all_results += [(K,get_scores(Y_pred, new_Y_pewd, Y_test, False),f)]\n",
        "\n",
        "pd.DataFrame(sorted(all_results, key = lambda x : x[1], reverse=True), columns=['K', 'acc', 'n_features'])"
      ],
      "execution_count": null,
      "outputs": [
        {
          "output_type": "execute_result",
          "data": {
            "text/html": [
              "<div>\n",
              "<style scoped>\n",
              "    .dataframe tbody tr th:only-of-type {\n",
              "        vertical-align: middle;\n",
              "    }\n",
              "\n",
              "    .dataframe tbody tr th {\n",
              "        vertical-align: top;\n",
              "    }\n",
              "\n",
              "    .dataframe thead th {\n",
              "        text-align: right;\n",
              "    }\n",
              "</style>\n",
              "<table border=\"1\" class=\"dataframe\">\n",
              "  <thead>\n",
              "    <tr style=\"text-align: right;\">\n",
              "      <th></th>\n",
              "      <th>K</th>\n",
              "      <th>acc</th>\n",
              "      <th>n_features</th>\n",
              "    </tr>\n",
              "  </thead>\n",
              "  <tbody>\n",
              "    <tr>\n",
              "      <th>0</th>\n",
              "      <td>5</td>\n",
              "      <td>0.653125</td>\n",
              "      <td>9</td>\n",
              "    </tr>\n",
              "    <tr>\n",
              "      <th>1</th>\n",
              "      <td>5</td>\n",
              "      <td>0.653125</td>\n",
              "      <td>10</td>\n",
              "    </tr>\n",
              "    <tr>\n",
              "      <th>2</th>\n",
              "      <td>5</td>\n",
              "      <td>0.646875</td>\n",
              "      <td>3</td>\n",
              "    </tr>\n",
              "    <tr>\n",
              "      <th>3</th>\n",
              "      <td>5</td>\n",
              "      <td>0.646875</td>\n",
              "      <td>4</td>\n",
              "    </tr>\n",
              "    <tr>\n",
              "      <th>4</th>\n",
              "      <td>5</td>\n",
              "      <td>0.646875</td>\n",
              "      <td>7</td>\n",
              "    </tr>\n",
              "    <tr>\n",
              "      <th>...</th>\n",
              "      <td>...</td>\n",
              "      <td>...</td>\n",
              "      <td>...</td>\n",
              "    </tr>\n",
              "    <tr>\n",
              "      <th>225</th>\n",
              "      <td>5</td>\n",
              "      <td>0.559375</td>\n",
              "      <td>1</td>\n",
              "    </tr>\n",
              "    <tr>\n",
              "      <th>226</th>\n",
              "      <td>10</td>\n",
              "      <td>0.559375</td>\n",
              "      <td>1</td>\n",
              "    </tr>\n",
              "    <tr>\n",
              "      <th>227</th>\n",
              "      <td>25</td>\n",
              "      <td>0.559375</td>\n",
              "      <td>2</td>\n",
              "    </tr>\n",
              "    <tr>\n",
              "      <th>228</th>\n",
              "      <td>45</td>\n",
              "      <td>0.556250</td>\n",
              "      <td>1</td>\n",
              "    </tr>\n",
              "    <tr>\n",
              "      <th>229</th>\n",
              "      <td>15</td>\n",
              "      <td>0.550000</td>\n",
              "      <td>1</td>\n",
              "    </tr>\n",
              "  </tbody>\n",
              "</table>\n",
              "<p>230 rows × 3 columns</p>\n",
              "</div>"
            ],
            "text/plain": [
              "      K       acc  n_features\n",
              "0     5  0.653125           9\n",
              "1     5  0.653125          10\n",
              "2     5  0.646875           3\n",
              "3     5  0.646875           4\n",
              "4     5  0.646875           7\n",
              "..   ..       ...         ...\n",
              "225   5  0.559375           1\n",
              "226  10  0.559375           1\n",
              "227  25  0.559375           2\n",
              "228  45  0.556250           1\n",
              "229  15  0.550000           1\n",
              "\n",
              "[230 rows x 3 columns]"
            ]
          },
          "metadata": {},
          "execution_count": 38
        }
      ]
    },
    {
      "cell_type": "markdown",
      "metadata": {
        "id": "R84xF_xOd3Qn"
      },
      "source": [
        "Aquí se realiza un estudio para determinar cuales son los f mejores features (que seran seleccionados por el SelectKBest) y cual es el mejor K para el modelo. El resto de los hiperparametros se mantienen iguales."
      ]
    },
    {
      "cell_type": "code",
      "metadata": {
        "id": "YEVBHFB1eGJI",
        "colab": {
          "base_uri": "https://localhost:8080/",
          "height": 423
        },
        "outputId": "2c1ec034-e199-4fcb-ab8f-4fb0bea10116"
      },
      "source": [
        "all_results = []\n",
        "for f in range(1,len(features)):\n",
        "  for K in range(5,120,5):  \n",
        "    model = KNeighborsClassifier (n_neighbors=K, weights='distance') #Se probaron todos los algorithms y ninguno cambio los resultados\n",
        "\n",
        "    pipe = Pipeline([('fselector', SelectKBest(chi2, k=f)), ('knn', model)])\n",
        "    pipe.fit(X_train, Y_train)\n",
        "    new_Y_pewd = pipe.predict_proba(X_test)\n",
        "\n",
        "    umbral_prob = 0.5\n",
        "    Y_pred = [0 if p>umbral_prob else 1 for p in new_Y_pewd[:,0]]\n",
        "    all_results += [(K,get_scores(Y_pred, new_Y_pewd, Y_test, False),f)]\n",
        "\n",
        "all_results = sorted(all_results, key = lambda x : x[1], reverse=True)\n",
        "all_results = pd.DataFrame(all_results, columns=['K', 'acc', 'n_features'])\n",
        "all_results"
      ],
      "execution_count": null,
      "outputs": [
        {
          "output_type": "execute_result",
          "data": {
            "text/html": [
              "<div>\n",
              "<style scoped>\n",
              "    .dataframe tbody tr th:only-of-type {\n",
              "        vertical-align: middle;\n",
              "    }\n",
              "\n",
              "    .dataframe tbody tr th {\n",
              "        vertical-align: top;\n",
              "    }\n",
              "\n",
              "    .dataframe thead th {\n",
              "        text-align: right;\n",
              "    }\n",
              "</style>\n",
              "<table border=\"1\" class=\"dataframe\">\n",
              "  <thead>\n",
              "    <tr style=\"text-align: right;\">\n",
              "      <th></th>\n",
              "      <th>K</th>\n",
              "      <th>acc</th>\n",
              "      <th>n_features</th>\n",
              "    </tr>\n",
              "  </thead>\n",
              "  <tbody>\n",
              "    <tr>\n",
              "      <th>0</th>\n",
              "      <td>20</td>\n",
              "      <td>0.737500</td>\n",
              "      <td>9</td>\n",
              "    </tr>\n",
              "    <tr>\n",
              "      <th>1</th>\n",
              "      <td>20</td>\n",
              "      <td>0.737500</td>\n",
              "      <td>10</td>\n",
              "    </tr>\n",
              "    <tr>\n",
              "      <th>2</th>\n",
              "      <td>25</td>\n",
              "      <td>0.728125</td>\n",
              "      <td>9</td>\n",
              "    </tr>\n",
              "    <tr>\n",
              "      <th>3</th>\n",
              "      <td>30</td>\n",
              "      <td>0.728125</td>\n",
              "      <td>9</td>\n",
              "    </tr>\n",
              "    <tr>\n",
              "      <th>4</th>\n",
              "      <td>25</td>\n",
              "      <td>0.728125</td>\n",
              "      <td>10</td>\n",
              "    </tr>\n",
              "    <tr>\n",
              "      <th>...</th>\n",
              "      <td>...</td>\n",
              "      <td>...</td>\n",
              "      <td>...</td>\n",
              "    </tr>\n",
              "    <tr>\n",
              "      <th>225</th>\n",
              "      <td>100</td>\n",
              "      <td>0.556250</td>\n",
              "      <td>1</td>\n",
              "    </tr>\n",
              "    <tr>\n",
              "      <th>226</th>\n",
              "      <td>105</td>\n",
              "      <td>0.556250</td>\n",
              "      <td>1</td>\n",
              "    </tr>\n",
              "    <tr>\n",
              "      <th>227</th>\n",
              "      <td>110</td>\n",
              "      <td>0.556250</td>\n",
              "      <td>1</td>\n",
              "    </tr>\n",
              "    <tr>\n",
              "      <th>228</th>\n",
              "      <td>115</td>\n",
              "      <td>0.556250</td>\n",
              "      <td>1</td>\n",
              "    </tr>\n",
              "    <tr>\n",
              "      <th>229</th>\n",
              "      <td>15</td>\n",
              "      <td>0.543750</td>\n",
              "      <td>1</td>\n",
              "    </tr>\n",
              "  </tbody>\n",
              "</table>\n",
              "<p>230 rows × 3 columns</p>\n",
              "</div>"
            ],
            "text/plain": [
              "       K       acc  n_features\n",
              "0     20  0.737500           9\n",
              "1     20  0.737500          10\n",
              "2     25  0.728125           9\n",
              "3     30  0.728125           9\n",
              "4     25  0.728125          10\n",
              "..   ...       ...         ...\n",
              "225  100  0.556250           1\n",
              "226  105  0.556250           1\n",
              "227  110  0.556250           1\n",
              "228  115  0.556250           1\n",
              "229   15  0.543750           1\n",
              "\n",
              "[230 rows x 3 columns]"
            ]
          },
          "metadata": {},
          "execution_count": 39
        }
      ]
    },
    {
      "cell_type": "markdown",
      "metadata": {
        "id": "R5pWzyfgeBYI"
      },
      "source": [
        "Se realiza de forma iterativa, al igual que en caso anterior, diversos ensayos del modelo hasta hallar la mejor combinación de K y numero de features.\n",
        "\n",
        "En este caso también se corre el modelo dando peso a la cercania de las instancias vecinas al momento de la clasificación. Es decir, de las K instancias más cercanas, aquellas más cercanas tendran más peso en la decision y las más lejanas tendran menos.\n",
        "\n",
        "Esta técnica permite lograr mayor accuracy."
      ]
    },
    {
      "cell_type": "markdown",
      "metadata": {
        "id": "LPbBtX2dheEt"
      },
      "source": [
        "### Mejor modelo de KNN"
      ]
    },
    {
      "cell_type": "code",
      "metadata": {
        "colab": {
          "base_uri": "https://localhost:8080/",
          "height": 731
        },
        "id": "4BucvfEfUTPr",
        "outputId": "833fdc90-d31b-47e1-e8f0-96d028905075"
      },
      "source": [
        "model = KNeighborsClassifier (n_neighbors=all_results['K'][0], weights='distance')\n",
        "\n",
        "pipe = Pipeline([('fselector', SelectKBest(chi2, k=all_results['n_features'][0])), ('knn', model)])\n",
        "pipe.fit(X_train, Y_train)\n",
        "new_Y_pewd = pipe.predict_proba(X_test)\n",
        "\n",
        "umbral_prob = 0.5\n",
        "Y_pred = [0 if p>umbral_prob else 1 for p in new_Y_pewd[:,0]]\n",
        "get_scores(Y_pred, new_Y_pewd, Y_test)"
      ],
      "execution_count": null,
      "outputs": [
        {
          "output_type": "display_data",
          "data": {
            "image/png": "[encoded data removed]",
            "text/plain": [
              "<Figure size 432x288 with 1 Axes>"
            ]
          },
          "metadata": {
            "needs_background": "light"
          }
        },
        {
          "output_type": "stream",
          "name": "stdout",
          "text": [
            "AUC: 0.8065882352941176\n",
            "              precision    recall  f1-score   support\n",
            "\n",
            "           0       0.74      0.68      0.71       150\n",
            "           1       0.74      0.79      0.76       170\n",
            "\n",
            "    accuracy                           0.74       320\n",
            "   macro avg       0.74      0.73      0.73       320\n",
            "weighted avg       0.74      0.74      0.74       320\n",
            "\n"
          ]
        },
        {
          "output_type": "execute_result",
          "data": {
            "text/plain": [
              "0.7375"
            ]
          },
          "metadata": {},
          "execution_count": 40
        },
        {
          "output_type": "display_data",
          "data": {
            "image/png": "[encoded data removed]",
            "text/plain": [
              "<Figure size 432x288 with 1 Axes>"
            ]
          },
          "metadata": {
            "needs_background": "light"
          }
        }
      ]
    },
    {
      "cell_type": "markdown",
      "metadata": {
        "id": "t8rq9Jnwf4fU"
      },
      "source": [
        "# PARTE 5\n",
        "\n",
        "Ensaye una discusión general del trabajo realizado, haciendo los comentarios y \n",
        "recomendaciones que considere necesarias."
      ]
    },
    {
      "cell_type": "markdown",
      "metadata": {
        "id": "aZfxmRnRKO2H"
      },
      "source": [
        "En el desarrollo de la tarea, se comenzo estudiando el set de datos e intentando entender que problemas se podrían ocasionar al utilizar los distintos modelos dada la naturaleza del mismo. En general, no se hallaron grandes problemas que requerriesen de una atención especial. El dataset contaba con una serie de features de valores continuos y con distitnas distribuciones. No había problema de campos nulos ni tampoco valores fuera del rango o de la magnitud de el resto. En particular, el único detalle que se podría resaltar como un problema ocasionado por el dataset, es la correlacion entre algunos de los features que se utilizaron como variables predictivas en el modelos de regresión lineal. Si bien esta no es demasiado grandes, podría generar cierto ruido en el modelo. \n",
        "\n",
        "\n",
        "Primero se comenzó realizando regresiones lineaes para predecir la clase del dataset. Este no parece el mejor approach dado que se realizan predicciones continuas cuando la clase a predecir es claramente ordinal. Es evidente que el modelo no se adaptara de mejor forma a los datos y además el output del modelo no necesariamente será util. Si los vinos se etiquetan con numeros enteros y el modelo predice un numero real no entero o racional, habrá que tomar aguna decision subjetiva para colapsar el dato. Dicho esto, podemos agregar que luego de ejecutar los modelos, ninguno de ellos tuvo buenos resultados. El que calificamos como el mejor modelo tuvo métricas de Mean Sqared Error = 0.47, R2 = 0.31 y Mean Average Error = 0.51, los cuales no son buenos resultados.\n",
        "\n",
        "\n",
        "Luego de ello pasamos a una etapa donde la clase a predicir se colapsaba a dos valores binarios. Pareció poco realista elegir un umbral que mejor el desempeño del modelo y por ellos se tomó la desición de elegirlo previo a la ejecución de cualquiera. No se tiene conocimientos sobre el campo de la vitivinicultura y por ende es dificil tomar una decisión fundamentada en las particularidades del area. Por ende, se decidió poner el umbral en 6. Esto separaba en iguales cantidades las clases, lo cual parece natural cuando se habla de 'bueno' o 'malo'. Además, resulta eficiente para todos los modelos de aprednizaje automático en general. \n",
        "\n",
        "\n",
        "En una primera instancia se utilizaron dos modelos distintos, GaussianDB y Logistic Regresion. El primero es un modelo bayesiano. En este caso no habría muchos hipermarametros que setear. Si era necesario elegir los features que se utilizarían para el modelo. En este caso se utilizó SelectKBest y se iteró para distintos K hasta elegir el mejor. El segundo modelo es una regresión logística. Nuevamente aquí se utilizo un approach iterativo con SelectKBest para elegir las mejores features para el modelo. Además se balancearon las clases dentro del modelo a modo de tener predicciones mas certeras.\n",
        "\n",
        "\n",
        "Por último, se implemento el modelo KNN. Aquí tambien iterativamente se buscó con SelectKBest el número f de features usadas y K de vecinos de KNN que mejoraba el modelo. Como hiperparámetros modificados que mejoraron el modelo, se destaca el uso de ponderacion por distancia. \n",
        "\n",
        "\n",
        "Es importante destacar que en el caso de los tres modelos anteriores se presenta finalmente el mejor modelo hayado con cada uno. No obstante, hay modelos que con mas simplicidad (menos features o menos vecinos en el caso de KNN) obtienen métricas muy similares. En casos de dataset chicos como estos, no sería un gran problema utilzar la mejor solución. En un caso de producción con un volumen de datos mayor, esto podría ser muy ineficiente.\n",
        "\n",
        "\n",
        "En cuanto a los resultados, como se menciono anteriormente, el modelo de regresion utilizado, ademas de no adaptarse bien al problema, arrojo muy malos resultados. Por otra parte, los modelos de clasificación tuvieron muy buenos resultados. Los primeros dos tuvieron accuracy cerca del 0.7 y valores de AUC de 0.78 aproximadamente, lo cual es relativamente bueno. El modelo de KNN supero levemente estos resultados. Se lograron obtener accuracies de al rededor de 0.75 y una AUC de 0.8. En la mayoría de estos casos, tanto el precision como el recall acompañaron los valores del accuracy, oscilando entre 0.65 y 0.8 en los distintos modelos.\n",
        "\n",
        "\n",
        "Un aspecto interesante a destacar es que muchos de estos modelos utilizan métricas de distancia entre instancias. En el desarrollo de esta tarea, no se normalizaron los valores de los distintos features. Esto a priori, podría generar que el error en cierto feature sea mas significativo que en otros. Sin embargo, no pareciera que los modelos se vieran grandemente afectados por esto, menos aun luego de elegir los mejores features para el modelo. Además, tampoco es posible fundamentar a priori que todos los features tengan igual importancia para el modelo.\n",
        "\n",
        "\n",
        "Luego de realizado los distintos modelos y approachs al problema, creemos que los resultados sí tienen utilidad. Obviamente que ningun modelo logró explicar de forma perfecta toda la realidad. Ninguno de ellos logró predecir consistentemente más del 80% de las instancias. Sin embargo, este parece ser un resultado no sólo aceptable, sino que bueno. Ya sea como sustituto de un sommelier o como paso previo a la contratación de uno para realizar una cata, el modelo puede ser sumamente útil. De todas formas, en un mundo donde el volumen de datos crece día a día, con la gran cantidad de features del dataset, sería razonable creer que con un set de datos más grandes los modelos tendrían resultados aún mejores. Bajo este escenario, podríamos suponer que la vitivinicultura podría ser sustentada por un par de algoritmos matemáticos. Pero, la realidad es que la vinicultura tiene mucho de cultura en ella. Como cualquier área de consumo vinculada a los gustos, es muy dificil creer que sea estática, pese a que quizás si haya concenso sobre ciertos vinos durante mucho tiempo. Las sociedades y sus gustos o predilecciones cambian con el tiempo, son dinámicas, y por ende los modelos dejarian de ser tan efectivos. Si bien los modelos pueden funcionar, será siempre necesario al menos la subjetividad de un experto para supervisar el entrenamiento y aprendizaje de los modelos."
      ]
    },
    {
      "cell_type": "code",
      "metadata": {
        "id": "0NxdYB7CMhvQ"
      },
      "source": [
        ""
      ],
      "execution_count": null,
      "outputs": []
    }
  ]
}